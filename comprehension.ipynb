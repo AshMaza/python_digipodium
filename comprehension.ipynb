{
 "cells": [
  {
   "attachments": {},
   "cell_type": "markdown",
   "metadata": {},
   "source": [
    "normal code\n"
   ]
  },
  {
   "cell_type": "code",
   "execution_count": 2,
   "metadata": {},
   "outputs": [
    {
     "name": "stdout",
     "output_type": "stream",
     "text": [
      "[1, 2, 3, 4, 5, 6, 7, 8, 9, 10]\n",
      "[1, 4, 9, 16, 25, 36, 49, 64, 81, 100]\n"
     ]
    }
   ],
   "source": [
    "a=[1,2,3,4,5,6,7,8,9,10]\n",
    "a2=[]\n",
    "for i in a:\n",
    "    a2.append(i**2)\n",
    "print(a)\n",
    "print(a2)\n"
   ]
  },
  {
   "cell_type": "code",
   "execution_count": 3,
   "metadata": {},
   "outputs": [
    {
     "name": "stdout",
     "output_type": "stream",
     "text": [
      "[1, 8, 27, 64, 125, 216, 343, 512, 729, 1000]\n"
     ]
    }
   ],
   "source": [
    "a3=[i**3 for i in a]\n",
    "#syntax is newlist=[operation loop condition] \n",
    "print(a3)"
   ]
  },
  {
   "cell_type": "code",
   "execution_count": 6,
   "metadata": {},
   "outputs": [
    {
     "name": "stdout",
     "output_type": "stream",
     "text": [
      "['V', 'R', 'S', 'D', 'G']\n"
     ]
    }
   ],
   "source": [
    "#create a list of five names , then use comprehension to create another list that will contain only first letter from each name\n",
    "names= ['Virat','Rohit', 'Sachin','Dravid', 'Ganguly']\n",
    "a2=[name[0] for name in names]\n",
    "print(a2)"
   ]
  },
  {
   "cell_type": "code",
   "execution_count": 7,
   "metadata": {},
   "outputs": [
    {
     "name": "stdout",
     "output_type": "stream",
     "text": [
      "[1.0, 2.0, 3.0, 4.0, 5.0]\n"
     ]
    }
   ],
   "source": [
    "a=[1,2,3,4,5,6,7,8,9,10]\n",
    "b=[i/2 for i in a if i%2==0]\n",
    "print(b)"
   ]
  },
  {
   "attachments": {},
   "cell_type": "markdown",
   "metadata": {},
   "source": [
    "#wap to create a list of 10 numbers , then use comprehension , to create another list of odd numbers\n",
    "#wap to create a list of 10 numbers , then use comprehension , to create another list of even numbers\n",
    "#wap to create a list given below a = ['2','3','5', '10'] then use comprehension to create another list of only int numbers\n",
    "#wap to add elements 0f 2 list in a 3rd list using comprehension,assuming both list are equal in length"
   ]
  },
  {
   "cell_type": "code",
   "execution_count": 1,
   "metadata": {},
   "outputs": [
    {
     "name": "stdout",
     "output_type": "stream",
     "text": [
      "[2, 4, 6, 8, 10]\n"
     ]
    }
   ],
   "source": [
    "a=[1,2,3,4,5,6,7,8,9,10]\n",
    "b=[i for i in a if i%2==0]\n",
    "print(b)"
   ]
  },
  {
   "cell_type": "code",
   "execution_count": 2,
   "metadata": {},
   "outputs": [
    {
     "name": "stdout",
     "output_type": "stream",
     "text": [
      "[1, 3, 5, 7, 9]\n"
     ]
    }
   ],
   "source": [
    "a=[1,2,3,4,5,6,7,8,9,10]\n",
    "b=[i for i in a if i%2!=0]\n",
    "print(b)"
   ]
  },
  {
   "cell_type": "code",
   "execution_count": 5,
   "metadata": {},
   "outputs": [
    {
     "name": "stdout",
     "output_type": "stream",
     "text": [
      "[7, 9, 11, 13, 15]\n"
     ]
    }
   ],
   "source": [
    "a=[1,2,3,4,5]\n",
    "b=[6,7,8,9,10]\n",
    "n=len(a)\n",
    "c=[a[i]+b[i] for i in range(n)]\n",
    "print(c)"
   ]
  },
  {
   "cell_type": "code",
   "execution_count": 6,
   "metadata": {},
   "outputs": [
    {
     "name": "stdout",
     "output_type": "stream",
     "text": [
      "[1, 2, 3, 4, 5]\n"
     ]
    }
   ],
   "source": [
    "a=['1','2','3','4','5']\n",
    "b=[int(i) for i in a]\n",
    "print(b)"
   ]
  },
  {
   "cell_type": "code",
   "execution_count": 4,
   "metadata": {},
   "outputs": [
    {
     "name": "stdout",
     "output_type": "stream",
     "text": [
      "(0, 'red')\n",
      "(1, 'green')\n",
      "(2, 'blue')\n",
      "(3, 'yellow')\n",
      "0 red\n",
      "1 green\n",
      "2 blue\n",
      "3 yellow\n"
     ]
    }
   ],
   "source": [
    "#to display indexes -- enumerate\n",
    "colors=['red','green','blue','yellow']\n",
    "for i in enumerate(colors):\n",
    "    print(i)\n",
    "\n"
   ]
  },
  {
   "cell_type": "code",
   "execution_count": 5,
   "metadata": {},
   "outputs": [
    {
     "name": "stdout",
     "output_type": "stream",
     "text": [
      "0 red\n",
      "1 green\n",
      "2 blue\n",
      "3 yellow\n"
     ]
    }
   ],
   "source": [
    "#also \n",
    "for index,value in enumerate(colors):\n",
    "    print(index, value)"
   ]
  },
  {
   "cell_type": "code",
   "execution_count": 6,
   "metadata": {},
   "outputs": [
    {
     "name": "stdout",
     "output_type": "stream",
     "text": [
      "🔥red\n",
      "❌green\n",
      "🔥blue\n",
      "❌yellow\n"
     ]
    }
   ],
   "source": [
    "for index,value in enumerate(colors):\n",
    "    if index%2==0:\n",
    "        print(f'🔥{value}')\n",
    "    else:\n",
    "        print(f'❌{value}')"
   ]
  },
  {
   "cell_type": "code",
   "execution_count": 7,
   "metadata": {},
   "outputs": [
    {
     "name": "stdout",
     "output_type": "stream",
     "text": [
      "Alex got 56 in Hindi\n",
      "Mary got 70 in Hindi\n",
      "Sam got 90 in Hindi\n",
      "Alice got 45 in Hindi\n"
     ]
    }
   ],
   "source": [
    "#zip--when you want to pass multiple sequences in one\n",
    "name=['Alex','Mary','Sam','Alice']\n",
    "hindi=[56,70,90,45]\n",
    "english=[67,89,90,78]\n",
    "for n,i in zip(name,hindi):\n",
    "    print(f'{n} got {i} in Hindi')"
   ]
  },
  {
   "cell_type": "code",
   "execution_count": 9,
   "metadata": {},
   "outputs": [
    {
     "name": "stdout",
     "output_type": "stream",
     "text": [
      "Alex got 56 in hindi and 67 in english and Total =123\n",
      "Mary got 70 in hindi and 89 in english and Total =159\n",
      "Sam got 90 in hindi and 90 in english and Total =180\n",
      "Alice got 45 in hindi and 78 in english and Total =123\n"
     ]
    }
   ],
   "source": [
    "for n,i,e in zip(name,hindi,english):\n",
    "    print(f'{n} got {i} in hindi and {e} in english and Total = {i+e}')"
   ]
  },
  {
   "cell_type": "code",
   "execution_count": 10,
   "metadata": {},
   "outputs": [
    {
     "name": "stdout",
     "output_type": "stream",
     "text": [
      "Alex       hindi = 56 | english = 67 | total = 123\n",
      "Mary       hindi = 70 | english = 89 | total = 159\n",
      "Sam        hindi = 90 | english = 90 | total = 180\n",
      "Alice      hindi = 45 | english = 78 | total = 123\n"
     ]
    }
   ],
   "source": [
    "for n,h,e in zip(name,hindi,english):\n",
    "    print(f'{n:<10} hindi = {h} | english = {e} | total = {h+e}')\n",
    "\n",
    "#{n:<10} formatting at left corner occupy 10 character space\n",
    "#{n:>10} formatting at right corner occupy 10 character space\n",
    "#{n:^10} formatting at center align occupy 10 character space"
   ]
  },
  {
   "cell_type": "code",
   "execution_count": null,
   "metadata": {},
   "outputs": [],
   "source": []
  }
 ],
 "metadata": {
  "kernelspec": {
   "display_name": "base",
   "language": "python",
   "name": "python3"
  },
  "language_info": {
   "codemirror_mode": {
    "name": "ipython",
    "version": 3
   },
   "file_extension": ".py",
   "mimetype": "text/x-python",
   "name": "python",
   "nbconvert_exporter": "python",
   "pygments_lexer": "ipython3",
   "version": "3.10.10"
  },
  "orig_nbformat": 4
 },
 "nbformat": 4,
 "nbformat_minor": 2
}
