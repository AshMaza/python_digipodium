{
 "cells": [
  {
   "cell_type": "code",
   "execution_count": 4,
   "metadata": {},
   "outputs": [
    {
     "name": "stdout",
     "output_type": "stream",
     "text": [
      "Gallery\n",
      "Maps\n",
      "17\n"
     ]
    }
   ],
   "source": [
    "a=['WhatsApp','Youtube','Duolingo','Gpay','Paypal','Paytm','Zomato','Maps','Drive','Camera','Gallery','PdfConverter','Outlook','gmail','google','chrome','grow']\n",
    "#indexing\n",
    "print(a[10])\n",
    "#reverse indexing\n",
    "print(a[-10])               \n",
    "print(len(a))                          #3rd element from the last\n"
   ]
  },
  {
   "cell_type": "code",
   "execution_count": 18,
   "metadata": {},
   "outputs": [
    {
     "name": "stdout",
     "output_type": "stream",
     "text": [
      "['Duolingo', 'Gpay', 'Paypal', 'Paytm', 'Zomato']\n",
      "['Duolingo', 'Paypal', 'Zomato', 'Drive']\n",
      "['grow']\n",
      "['Camera', 'Gallery', 'PdfConverter', 'Outlook', 'gmail', 'google', 'chrome', 'grow']\n"
     ]
    }
   ],
   "source": [
    "#slicing\n",
    "#syntax a[start:stop:gap] or a[start:stop]\n",
    "b=a[2:7]\n",
    "print(b)\n",
    "c=a[2:9:2]\n",
    "print(c)\n",
    "d=a[-1:]\n",
    "print(d)\n",
    "print(a[9:])"
   ]
  },
  {
   "cell_type": "code",
   "execution_count": null,
   "metadata": {},
   "outputs": [],
   "source": []
  }
 ],
 "metadata": {
  "kernelspec": {
   "display_name": "base",
   "language": "python",
   "name": "python3"
  },
  "language_info": {
   "codemirror_mode": {
    "name": "ipython",
    "version": 3
   },
   "file_extension": ".py",
   "mimetype": "text/x-python",
   "name": "python",
   "nbconvert_exporter": "python",
   "pygments_lexer": "ipython3",
   "version": "3.10.10"
  },
  "orig_nbformat": 4
 },
 "nbformat": 4,
 "nbformat_minor": 2
}
