{
 "cells": [
  {
   "cell_type": "code",
   "execution_count": 1,
   "metadata": {},
   "outputs": [
    {
     "name": "stdout",
     "output_type": "stream",
     "text": [
      "[12, 13, 14, 15]\n"
     ]
    }
   ],
   "source": [
    "a=[]\n",
    "n=int(input(\"how many numbers you want to enter\"))\n",
    "for i in range(n):\n",
    "    i=int(input(\"enter the number\"))\n",
    "    a.append(i)\n",
    "print(a)"
   ]
  },
  {
   "attachments": {},
   "cell_type": "markdown",
   "metadata": {},
   "source": [
    "Write a program that creates a list of integers and then asks the user to input an integer to check if it exists in the list. Print a message indicating whether the integer is in the list or not."
   ]
  },
  {
   "cell_type": "code",
   "execution_count": 3,
   "metadata": {},
   "outputs": [
    {
     "name": "stdout",
     "output_type": "stream",
     "text": [
      "found\n"
     ]
    }
   ],
   "source": [
    "a=[]\n",
    "n=int(input(\"how many numbers you want to enter\"))\n",
    "for i in range(n):\n",
    "    i=int(input(\"enter the number\"))\n",
    "    a.append(i)\n",
    "\n",
    "x= int(input(\"enter a number\"))\n",
    "if x in a:\n",
    "    print(\"found\")\n",
    "else:\n",
    "    print(\"not found\")"
   ]
  },
  {
   "attachments": {},
   "cell_type": "markdown",
   "metadata": {},
   "source": [
    "Write a program that creates a list of strings and then sorts the list alphabetically. Print the sorted list."
   ]
  },
  {
   "cell_type": "code",
   "execution_count": 6,
   "metadata": {},
   "outputs": [
    {
     "name": "stdout",
     "output_type": "stream",
     "text": [
      "before sorting ['c', 'b', 'x']\n",
      "after sorting ['b', 'c', 'x']\n"
     ]
    }
   ],
   "source": [
    "a=[]\n",
    "n=int(input(\"how many numbers you want to enter\"))\n",
    "for i in range(n):\n",
    "    i=input(\"enter the alphabet\")\n",
    "    a.append(i)\n",
    "print(\"before sorting\",a)\n",
    "a.sort()\n",
    "print(\"after sorting\",a)"
   ]
  },
  {
   "attachments": {},
   "cell_type": "markdown",
   "metadata": {},
   "source": [
    "Write a program that creates a list of integers and then finds the maximum value in the list. Print the maximum value."
   ]
  },
  {
   "cell_type": "code",
   "execution_count": 7,
   "metadata": {},
   "outputs": [
    {
     "name": "stdout",
     "output_type": "stream",
     "text": [
      "[12, 13, 14]\n",
      "Maximum value is 14\n"
     ]
    }
   ],
   "source": [
    "a=[]\n",
    "n=int(input(\"how many numbers you want to enter\"))\n",
    "for i in range(n):\n",
    "    i=int(input(\"enter the number\"))\n",
    "    a.append(i)\n",
    "print(a)\n",
    "print(\"Maximum value is\",max(a))"
   ]
  },
  {
   "attachments": {},
   "cell_type": "markdown",
   "metadata": {},
   "source": [
    "Write a program that creates two lists of integers and then finds the common elements between those two lists. Print the common elements."
   ]
  },
  {
   "cell_type": "code",
   "execution_count": 11,
   "metadata": {},
   "outputs": [
    {
     "name": "stdout",
     "output_type": "stream",
     "text": [
      "[1, 3, 2] [2, 1, 3]\n",
      "1\n",
      "3\n",
      "2\n"
     ]
    }
   ],
   "source": [
    "a=[]\n",
    "b=[]\n",
    "n=int(input(\"how many numbers you want to enter\"))\n",
    "for i in range(n):\n",
    "    i=int(input(\"enter the number\"))\n",
    "    x=int(input(\"enter the number for 2nd list\"))\n",
    "    a.append(i)\n",
    "    b.append(x)\n",
    "print(a,b)\n",
    "\n",
    "for i in a:\n",
    "    if i in b:\n",
    "        print(i)"
   ]
  },
  {
   "attachments": {},
   "cell_type": "markdown",
   "metadata": {},
   "source": [
    "Write a program that creates a list of strings and then removes all elements that contain a specific substring. Print the final list."
   ]
  },
  {
   "cell_type": "code",
   "execution_count": 21,
   "metadata": {},
   "outputs": [
    {
     "name": "stdout",
     "output_type": "stream",
     "text": [
      "['aman', 'karan', 'chaman']\n",
      "['karan']\n"
     ]
    }
   ],
   "source": [
    "a=[]\n",
    "n=int(input(\"how many numbers you want to enter\"))\n",
    "for i in range(n):\n",
    "    i=input(\"enter the string\")\n",
    "    a.append(i)\n",
    "print(a)\n",
    "temp=a\n",
    "c=input(\"enter the substring\")\n",
    "for i in temp:\n",
    "    if c in i:\n",
    "        a.remove(i)\n",
    "print(a)"
   ]
  },
  {
   "attachments": {},
   "cell_type": "markdown",
   "metadata": {},
   "source": [
    "Write a program that creates a nested list and then accesses a specific element in the list. Print the accessed element."
   ]
  },
  {
   "cell_type": "code",
   "execution_count": 27,
   "metadata": {},
   "outputs": [
    {
     "ename": "TypeError",
     "evalue": "'int' object is not subscriptable",
     "output_type": "error",
     "traceback": [
      "\u001b[1;31m---------------------------------------------------------------------------\u001b[0m",
      "\u001b[1;31mTypeError\u001b[0m                                 Traceback (most recent call last)",
      "Cell \u001b[1;32mIn[27], line 2\u001b[0m\n\u001b[0;32m      1\u001b[0m a\u001b[39m=\u001b[39m[\u001b[39m1\u001b[39m,\u001b[39m2\u001b[39m,[\u001b[39m3\u001b[39m,\u001b[39m4\u001b[39m,\u001b[39m5\u001b[39m],[\u001b[39m6\u001b[39m,\u001b[39m7\u001b[39m,\u001b[39m8\u001b[39m]]\n\u001b[1;32m----> 2\u001b[0m b\u001b[39m=\u001b[39ma[\u001b[39m1\u001b[39;49m][\u001b[39m1\u001b[39;49m]\n\u001b[0;32m      3\u001b[0m \u001b[39mprint\u001b[39m(b)\n",
      "\u001b[1;31mTypeError\u001b[0m: 'int' object is not subscriptable"
     ]
    }
   ],
   "source": [
    "a=[1,2,[3,4,5],[6,7,8]]\n",
    "b=a[1][1]\n",
    "print(b)"
   ]
  },
  {
   "attachments": {},
   "cell_type": "markdown",
   "metadata": {},
   "source": [
    "Write a program that creates a list of integers and then removes all duplicates from the list. Print the final list."
   ]
  },
  {
   "cell_type": "code",
   "execution_count": 32,
   "metadata": {},
   "outputs": [
    {
     "name": "stdout",
     "output_type": "stream",
     "text": [
      "[1, 2, 3, 3]\n",
      "[1, 2, 3]\n"
     ]
    }
   ],
   "source": [
    "a=[]\n",
    "n=int(input(\"how many numbers you want to enter\"))\n",
    "for i in range(n):\n",
    "    i=int(input(\"enter the number\"))\n",
    "    a.append(i)\n",
    "print(a)\n",
    "b=[]\n",
    "for i in a:\n",
    "    if a.count(i)>=1 and b.count(i)==0:\n",
    "        b.append(i)\n",
    "print(b)\n"
   ]
  },
  {
   "attachments": {},
   "cell_type": "markdown",
   "metadata": {},
   "source": [
    "Write a program that creates a list of strings and then finds the longest string in the list. Print the longest string"
   ]
  },
  {
   "cell_type": "code",
   "execution_count": 35,
   "metadata": {},
   "outputs": [
    {
     "name": "stdout",
     "output_type": "stream",
     "text": [
      "['raju', 'dom', 'katiya']\n",
      "katiya\n"
     ]
    }
   ],
   "source": [
    "a=[]\n",
    "n=int(input(\"how many numbers you want to enter\"))\n",
    "for i in range(n):\n",
    "    i=input(\"enter the string\")\n",
    "    a.append(i)\n",
    "print(a)\n",
    "maxi=0\n",
    "for i in a:\n",
    "    maxi=max(len(i),maxi)\n",
    "for i in a:\n",
    "    if(len(i)==maxi):\n",
    "        print(i)"
   ]
  },
  {
   "attachments": {},
   "cell_type": "markdown",
   "metadata": {},
   "source": [
    "Write a program that creates a list of integers and then finds the sum of all the even numbers in the list. Print the sum."
   ]
  },
  {
   "cell_type": "code",
   "execution_count": 37,
   "metadata": {},
   "outputs": [
    {
     "name": "stdout",
     "output_type": "stream",
     "text": [
      "20\n"
     ]
    }
   ],
   "source": [
    "a=[1,2,3,4,5,6,7,8,9]\n",
    "b=[i for i in a if i%2==0]\n",
    "print(sum(b))"
   ]
  },
  {
   "attachments": {},
   "cell_type": "markdown",
   "metadata": {},
   "source": [
    "Write a program that creates a list of integers and then asks the user to input a position to remove an element from the list. Print the final list."
   ]
  },
  {
   "cell_type": "code",
   "execution_count": 39,
   "metadata": {},
   "outputs": [
    {
     "name": "stdout",
     "output_type": "stream",
     "text": [
      "[1, 2, 3]\n",
      "[1, 2]\n"
     ]
    }
   ],
   "source": [
    "a=[]\n",
    "n=int(input(\"how many numbers you want to enter\"))\n",
    "for i in range(n):\n",
    "    i=int(input(\"enter the number\"))\n",
    "    a.append(i)\n",
    "print(a)\n",
    "pos=int(input(\"enter the position\"))\n",
    "a.pop(pos)\n",
    "print(a)"
   ]
  },
  {
   "attachments": {},
   "cell_type": "markdown",
   "metadata": {},
   "source": [
    "Write a program that creates a list of strings and then concatenates all the strings into a single string. Print the final string."
   ]
  },
  {
   "cell_type": "code",
   "execution_count": 40,
   "metadata": {},
   "outputs": [
    {
     "name": "stdout",
     "output_type": "stream",
     "text": [
      "Hello This is Dominic Toretto\n"
     ]
    }
   ],
   "source": [
    "a=[\"Hello\",\"This\",\"is\",\"Dominic\",\"Toretto\"]\n",
    "print(\" \".join(a))"
   ]
  },
  {
   "attachments": {},
   "cell_type": "markdown",
   "metadata": {},
   "source": [
    "Write a program that creates a list of integers and then finds the median value of the list. Print the median."
   ]
  },
  {
   "cell_type": "code",
   "execution_count": 45,
   "metadata": {},
   "outputs": [
    {
     "name": "stdout",
     "output_type": "stream",
     "text": [
      "[6, 4, 9]\n",
      "Median of the list is 6 \n"
     ]
    }
   ],
   "source": [
    "a=[]\n",
    "n=int(input(\"how many numbers you want to enter\"))\n",
    "for i in range(n):\n",
    "    i=int(input(\"enter the number\"))\n",
    "    a.append(i)\n",
    "print(a)\n",
    "a.sort()\n",
    "n=len(a)//2\n",
    "med=a[n]\n",
    "print(f'Median of the list is {med} ')"
   ]
  },
  {
   "attachments": {},
   "cell_type": "markdown",
   "metadata": {},
   "source": [
    "Write a program that creates a list of strings and then reverses the order of the strings in the list. Print the reversed list."
   ]
  },
  {
   "cell_type": "code",
   "execution_count": 46,
   "metadata": {},
   "outputs": [
    {
     "name": "stdout",
     "output_type": "stream",
     "text": [
      "Toretto Dominic is This Hello\n"
     ]
    }
   ],
   "source": [
    "a=a=[\"Hello\",\"This\",\"is\",\"Dominic\",\"Toretto\"]\n",
    "print(\" \".join(a[::-1]))"
   ]
  },
  {
   "attachments": {},
   "cell_type": "markdown",
   "metadata": {},
   "source": [
    "Write a program that creates a list of integers and then calculates the average of all the numbers in the list. Print the average."
   ]
  },
  {
   "cell_type": "code",
   "execution_count": 47,
   "metadata": {},
   "outputs": [
    {
     "name": "stdout",
     "output_type": "stream",
     "text": [
      "[12, 13, 14]\n",
      "average is 13\n"
     ]
    }
   ],
   "source": [
    "a=[]\n",
    "n=int(input(\"how many numbers you want to enter\"))\n",
    "for i in range(n):\n",
    "    i=int(input(\"enter the number\"))\n",
    "    a.append(i)\n",
    "print(a)\n",
    "avg=sum(a)//len(a)\n",
    "print(f'average is {avg}')"
   ]
  },
  {
   "attachments": {},
   "cell_type": "markdown",
   "metadata": {},
   "source": [
    "Write a program that creates a list of integers and then finds the index of a specific element in the list. Print the index."
   ]
  },
  {
   "cell_type": "code",
   "execution_count": 49,
   "metadata": {},
   "outputs": [
    {
     "name": "stdout",
     "output_type": "stream",
     "text": [
      "[1, 2, 3, 4]\n",
      "index of 3 is 2\n"
     ]
    }
   ],
   "source": [
    "a=[]\n",
    "n=int(input(\"how many numbers you want to enter\"))\n",
    "for i in range(n):\n",
    "    i=int(input(\"enter the number\"))\n",
    "    a.append(i)\n",
    "print(a)\n",
    "x=int(input(\"enter the number\"))\n",
    "print(f'index of {x} is {a.index(x)}')\n"
   ]
  },
  {
   "attachments": {},
   "cell_type": "markdown",
   "metadata": {},
   "source": [
    "Write a program that creates a list of strings and then removes all whitespace characters from each string in the list. Print the final list."
   ]
  },
  {
   "cell_type": "code",
   "execution_count": 51,
   "metadata": {},
   "outputs": [
    {
     "name": "stdout",
     "output_type": "stream",
     "text": [
      "['hello', 'This', 'is', 'Domininc', 'Toretto']\n"
     ]
    }
   ],
   "source": [
    "a=[\" hello \",\" This \",\" is \",\" Domininc \",\" Toretto \"]\n",
    "b=[]\n",
    "for i in a:\n",
    "    b.append(i.strip())\n",
    "print(b)"
   ]
  },
  {
   "attachments": {},
   "cell_type": "markdown",
   "metadata": {},
   "source": [
    "Write a program that creates a list of integers and then sorts the list in descending order. Print the sorted list."
   ]
  },
  {
   "cell_type": "code",
   "execution_count": 52,
   "metadata": {},
   "outputs": [
    {
     "name": "stdout",
     "output_type": "stream",
     "text": [
      "[1, 2, 9, 6, 5]\n",
      "In descending order [9, 6, 5, 2, 1]\n"
     ]
    }
   ],
   "source": [
    "a=[]\n",
    "n=int(input(\"how many numbers you want to enter\"))\n",
    "for i in range(n):\n",
    "    i=int(input(\"enter the number\"))\n",
    "    a.append(i)\n",
    "print(a)\n",
    "a.sort()\n",
    "print(\"In descending order\",a[::-1])"
   ]
  },
  {
   "attachments": {},
   "cell_type": "markdown",
   "metadata": {},
   "source": [
    "Write a program that creates a list of integers and then asks the user to input a value to add to the list. Add the value to the beginning of the list and print the final list."
   ]
  },
  {
   "cell_type": "code",
   "execution_count": 55,
   "metadata": {},
   "outputs": [
    {
     "name": "stdout",
     "output_type": "stream",
     "text": [
      "[1, 2, 3]\n",
      "Final list is  [4, 1, 2, 3]\n"
     ]
    }
   ],
   "source": [
    "a=[]\n",
    "n=int(input(\"how many numbers you want to enter\"))\n",
    "for i in range(n):\n",
    "    i=int(input(\"enter the number\"))\n",
    "    a.append(i)\n",
    "print(a)\n",
    "i=int(input(\"enter the number\"))\n",
    "a.insert(0,i)\n",
    "print(\"Final list is \",a)"
   ]
  },
  {
   "attachments": {},
   "cell_type": "markdown",
   "metadata": {},
   "source": [
    "Write a program that creates two lists of integers and then concatenates those two lists into a single list. Print the final list."
   ]
  },
  {
   "cell_type": "code",
   "execution_count": 57,
   "metadata": {},
   "outputs": [
    {
     "name": "stdout",
     "output_type": "stream",
     "text": [
      "[1, 2, 3, 4, 5, 6, 7]\n"
     ]
    }
   ],
   "source": [
    "a=[1,2,3]\n",
    "b=[4,5,6,7]\n",
    "a.extend(b)\n",
    "print(a)"
   ]
  },
  {
   "attachments": {},
   "cell_type": "markdown",
   "metadata": {},
   "source": []
  },
  {
   "cell_type": "code",
   "execution_count": null,
   "metadata": {},
   "outputs": [],
   "source": []
  }
 ],
 "metadata": {
  "kernelspec": {
   "display_name": "base",
   "language": "python",
   "name": "python3"
  },
  "language_info": {
   "codemirror_mode": {
    "name": "ipython",
    "version": 3
   },
   "file_extension": ".py",
   "mimetype": "text/x-python",
   "name": "python",
   "nbconvert_exporter": "python",
   "pygments_lexer": "ipython3",
   "version": "3.10.10"
  },
  "orig_nbformat": 4
 },
 "nbformat": 4,
 "nbformat_minor": 2
}
