{
 "cells": [
  {
   "attachments": {},
   "cell_type": "markdown",
   "metadata": {},
   "source": [
    "#strings\n",
    "-creating\n",
    "-indexing\n",
    "-slicing\n",
    "-methods\n",
    "    -formatting methods\n",
    "    -validation methods\n",
    "    -utility methods\n"
   ]
  },
  {
   "cell_type": "code",
   "execution_count": 4,
   "metadata": {},
   "outputs": [
    {
     "name": "stdout",
     "output_type": "stream",
     "text": [
      "This is a \n",
      "multiline message \n",
      "from the past\n"
     ]
    }
   ],
   "source": [
    "a='hello'\n",
    "b=\"Hola\"\n",
    "c='''This is a \n",
    "multiline message \n",
    "from the past'''\n",
    "print(c)"
   ]
  },
  {
   "cell_type": "code",
   "execution_count": 7,
   "metadata": {},
   "outputs": [
    {
     "name": "stdout",
     "output_type": "stream",
     "text": [
      "this is an 'important' message\n",
      "this is an 'important' message\n"
     ]
    }
   ],
   "source": [
    "print('this is an \\'important\\' message')  #to use single quotes within statement we use escape sequence\n",
    "print(\"this is an 'important' message\")    #better"
   ]
  },
  {
   "cell_type": "code",
   "execution_count": 8,
   "metadata": {},
   "outputs": [
    {
     "name": "stdout",
     "output_type": "stream",
     "text": [
      "123\n"
     ]
    }
   ],
   "source": [
    "x=str(123)\n",
    "print(x)"
   ]
  },
  {
   "cell_type": "code",
   "execution_count": 11,
   "metadata": {},
   "outputs": [
    {
     "name": "stdout",
     "output_type": "stream",
     "text": [
      "24\n"
     ]
    }
   ],
   "source": [
    "name = 'Syed Mazahir Mehdi Zaidi'\n",
    "print(len(name))"
   ]
  },
  {
   "cell_type": "code",
   "execution_count": 12,
   "metadata": {},
   "outputs": [
    {
     "name": "stdout",
     "output_type": "stream",
     "text": [
      "S i\n"
     ]
    }
   ],
   "source": [
    "print(name[0],name[-1])"
   ]
  },
  {
   "cell_type": "code",
   "execution_count": 13,
   "metadata": {},
   "outputs": [
    {
     "name": "stdout",
     "output_type": "stream",
     "text": [
      "Syed \n"
     ]
    }
   ],
   "source": [
    "print(name[:5])"
   ]
  },
  {
   "cell_type": "code",
   "execution_count": 14,
   "metadata": {},
   "outputs": [
    {
     "name": "stdout",
     "output_type": "stream",
     "text": [
      "Mazahir \n"
     ]
    }
   ],
   "source": [
    "print(name[5:13])"
   ]
  },
  {
   "cell_type": "code",
   "execution_count": 18,
   "metadata": {},
   "outputs": [
    {
     "name": "stdout",
     "output_type": "stream",
     "text": [
      "Mehdi Zaidi\n"
     ]
    }
   ],
   "source": [
    "print(name[13:])"
   ]
  },
  {
   "cell_type": "code",
   "execution_count": 19,
   "metadata": {},
   "outputs": [
    {
     "name": "stdout",
     "output_type": "stream",
     "text": [
      "Syed Mazahir Mehdi Zaidi\n"
     ]
    }
   ],
   "source": [
    "print(name[:])"
   ]
  },
  {
   "cell_type": "code",
   "execution_count": 22,
   "metadata": {},
   "outputs": [
    {
     "name": "stdout",
     "output_type": "stream",
     "text": [
      "olleH\n"
     ]
    }
   ],
   "source": [
    "x=\"Hello\"\n",
    "print(x[::-1])        #reverse string"
   ]
  },
  {
   "cell_type": "code",
   "execution_count": 23,
   "metadata": {},
   "outputs": [
    {
     "name": "stdout",
     "output_type": "stream",
     "text": [
      "Se aai ed ad\n"
     ]
    }
   ],
   "source": [
    "print(name[::2])      #alternate"
   ]
  },
  {
   "cell_type": "code",
   "execution_count": 26,
   "metadata": {},
   "outputs": [
    {
     "name": "stdout",
     "output_type": "stream",
     "text": [
      "JOURNEY BEFORE DESTINATION\n",
      "journey before destination\n",
      "Syed Mazahir Mehdi Zaidi\n",
      "Journey before destination\n",
      "journey before destination\n",
      "jOURNEY bEFORE dESTINATION\n"
     ]
    }
   ],
   "source": [
    "msg='Journey Before Destination'\n",
    "name='syed mazahir mehdi zaidi'\n",
    "print(msg.upper())\n",
    "print(msg.lower())\n",
    "print(name.title())\n",
    "print(msg.capitalize())\n",
    "print(msg.casefold())  #same as lower\n",
    "print(msg.swapcase())\n"
   ]
  },
  {
   "cell_type": "code",
   "execution_count": 29,
   "metadata": {},
   "outputs": [
    {
     "name": "stdout",
     "output_type": "stream",
     "text": [
      "                                     Journey Before Destination                                     \n",
      "Journey Before Destination                        \n",
      "                        Journey Before Destination\n"
     ]
    }
   ],
   "source": [
    "print(f'{msg:^100}')\n",
    "print(f'{msg:<50}')\n",
    "print(f'{msg:>50}')"
   ]
  },
  {
   "cell_type": "code",
   "execution_count": 41,
   "metadata": {},
   "outputs": [
    {
     "name": "stdout",
     "output_type": "stream",
     "text": [
      "num pow result\n",
      "  1   2     1\n",
      "  2   2     4\n",
      "  3   2     9\n",
      "  4   2    16\n",
      "  5   2    25\n",
      "  6   2    36\n",
      "  7   2    49\n",
      "  8   2    64\n",
      "  9   2    81\n",
      " 10   2   100\n",
      " 11   2   121\n",
      " 12   2   144\n",
      " 13   2   169\n",
      " 14   2   196\n",
      " 15   2   225\n",
      " 16   2   256\n",
      " 17   2   289\n",
      " 18   2   324\n",
      " 19   2   361\n",
      " 20   2   400\n"
     ]
    }
   ],
   "source": [
    "print('num pow result')\n",
    "for i in range(1,21):\n",
    "    print(f'{i:3}{2:4}{i**2:6}')"
   ]
  },
  {
   "cell_type": "code",
   "execution_count": 45,
   "metadata": {},
   "outputs": [
    {
     "name": "stdout",
     "output_type": "stream",
     "text": [
      "num pow result\n",
      "1   2    1     \n",
      "2   2    4     \n",
      "3   2    27    \n",
      "4   2    256   \n",
      "5   2    3125  \n",
      "6   2    46656 \n",
      "7   2    823543\n",
      "8   2    16777216\n",
      "9   2    387420489\n",
      "10  2    10000000000\n",
      "11  2    285311670611\n",
      "12  2    8916100448256\n",
      "13  2    302875106592253\n",
      "14  2    11112006825558016\n",
      "15  2    437893890380859375\n",
      "16  2    18446744073709551616\n",
      "17  2    827240261886336764177\n",
      "18  2    39346408075296537575424\n",
      "19  2    1978419655660313589123979\n",
      "20  2    104857600000000000000000000\n"
     ]
    }
   ],
   "source": [
    "print('num pow result')\n",
    "for i in range(1,21):\n",
    "    print(f'{i:<3} {2:<4} {i**i:<6}')"
   ]
  },
  {
   "cell_type": "code",
   "execution_count": 52,
   "metadata": {},
   "outputs": [
    {
     "name": "stdout",
     "output_type": "stream",
     "text": [
      "                                          Dominic Toretto                                           \n",
      "Dominic Toretto                                                                                     \n",
      "                                                                                     Dominic Toretto\n",
      "******************************************Dominic Toretto*******************************************\n"
     ]
    }
   ],
   "source": [
    "name=\"Dominic Toretto\"\n",
    "print(name.center(100))\n",
    "print(name.ljust(100))\n",
    "print(name.rjust(100))\n",
    "#also\n",
    "print(name.center(100,'*'))"
   ]
  },
  {
   "cell_type": "code",
   "execution_count": 53,
   "metadata": {},
   "outputs": [
    {
     "name": "stdout",
     "output_type": "stream",
     "text": [
      "True\n",
      "True\n",
      "False\n"
     ]
    }
   ],
   "source": [
    "#validation\n",
    "a='hello'\n",
    "print(a.isalpha())\n",
    "print(a.isalnum())\n",
    "print(a.isnumeric())\n"
   ]
  },
  {
   "cell_type": "code",
   "execution_count": 55,
   "metadata": {},
   "outputs": [
    {
     "name": "stdout",
     "output_type": "stream",
     "text": [
      "we dont want alphabets\n"
     ]
    }
   ],
   "source": [
    "num1=input('enter a number')\n",
    "if num1.isalpha():\n",
    "    print('we dont want alphabets')\n",
    "elif num1.isnumeric():\n",
    "    print('Good Job')\n",
    "    num1 = int(num1)"
   ]
  },
  {
   "cell_type": "code",
   "execution_count": 57,
   "metadata": {},
   "outputs": [
    {
     "name": "stdout",
     "output_type": "stream",
     "text": [
      "Hello Doctor\n"
     ]
    }
   ],
   "source": [
    "#to check starting\n",
    "name='Dr. Peter Rutherford'\n",
    "if name.startswith('Dr.'):\n",
    "    print('Hello Doctor')\n",
    "elif name.startswith('Mr.'):\n",
    "    print('Hello Mister')\n",
    "elif name.startswith('Er.'):\n",
    "    print('Hello Engineer')\n",
    "\n"
   ]
  },
  {
   "cell_type": "code",
   "execution_count": 58,
   "metadata": {},
   "outputs": [
    {
     "name": "stdout",
     "output_type": "stream",
     "text": [
      "He is from Indore\n"
     ]
    }
   ],
   "source": [
    "name='Rahat Indori'\n",
    "if name.endswith('Indori'):\n",
    "    print('He is from Indore')\n",
    "else:\n",
    "    print('Other part')"
   ]
  },
  {
   "cell_type": "code",
   "execution_count": 59,
   "metadata": {},
   "outputs": [
    {
     "data": {
      "text/plain": [
       "['Rahat', 'Indori']"
      ]
     },
     "execution_count": 59,
     "metadata": {},
     "output_type": "execute_result"
    }
   ],
   "source": [
    "name.split()\n"
   ]
  },
  {
   "cell_type": "code",
   "execution_count": 60,
   "metadata": {},
   "outputs": [
    {
     "name": "stdout",
     "output_type": "stream",
     "text": [
      "['1-0', '2-0', '4-6', '3-6', '6-5']\n"
     ]
    }
   ],
   "source": [
    "data='1-0,2-0,4-6,3-6,6-5'\n",
    "score=data.split(',')\n",
    "print(score)"
   ]
  },
  {
   "cell_type": "code",
   "execution_count": 62,
   "metadata": {},
   "outputs": [
    {
     "name": "stdout",
     "output_type": "stream",
     "text": [
      "1,2,3,45,6\n",
      "['1', '2', '3', '45', '6']\n"
     ]
    }
   ],
   "source": [
    "user_values=input('enter the values separated by coma')\n",
    "print(user_values)\n",
    "print(user_values.split(','))"
   ]
  },
  {
   "cell_type": "code",
   "execution_count": 64,
   "metadata": {},
   "outputs": [
    {
     "data": {
      "text/plain": [
       "'Hello-Welcome-To-My-City'"
      ]
     },
     "execution_count": 64,
     "metadata": {},
     "output_type": "execute_result"
    }
   ],
   "source": [
    "x=['Hello','Welcome','To','My','City']\n",
    "\" \".join(x)"
   ]
  },
  {
   "cell_type": "code",
   "execution_count": null,
   "metadata": {},
   "outputs": [],
   "source": [
    "\"-\".join(x)"
   ]
  }
 ],
 "metadata": {
  "kernelspec": {
   "display_name": "base",
   "language": "python",
   "name": "python3"
  },
  "language_info": {
   "codemirror_mode": {
    "name": "ipython",
    "version": 3
   },
   "file_extension": ".py",
   "mimetype": "text/x-python",
   "name": "python",
   "nbconvert_exporter": "python",
   "pygments_lexer": "ipython3",
   "version": "3.10.10"
  },
  "orig_nbformat": 4
 },
 "nbformat": 4,
 "nbformat_minor": 2
}
