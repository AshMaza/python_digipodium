{
 "cells": [
  {
   "cell_type": "code",
   "execution_count": 2,
   "metadata": {},
   "outputs": [],
   "source": [
    "students = {\n",
    "    'Maulik' : 'MU',\n",
    "    'Aman' : 'NPGC',\n",
    "    'Abhay' : 'NPGC',\n",
    "    'Mazahir' : 'AU',\n",
    "    'Imadul' : 'IU',\n",
    "    'Prashutosh' : 'SHUATS'\n",
    "}"
   ]
  },
  {
   "cell_type": "code",
   "execution_count": 3,
   "metadata": {},
   "outputs": [
    {
     "data": {
      "text/plain": [
       "'AU'"
      ]
     },
     "execution_count": 3,
     "metadata": {},
     "output_type": "execute_result"
    }
   ],
   "source": [
    "students['Mazahir']"
   ]
  },
  {
   "cell_type": "code",
   "execution_count": 4,
   "metadata": {},
   "outputs": [],
   "source": [
    "students = {\n",
    "    'Maulik' : 'MU',\n",
    "    'Aman' : 'NPGC',\n",
    "    'Abhay' : 'NPGC',\n",
    "    'Mazahir' : {'college':'AU',\n",
    "                 'type':'offline'},\n",
    "    'Imadul' : 'IU',\n",
    "    'Prashutosh' : 'SHUATS',\n",
    "    'Shoeb':{\n",
    "        'college':'IET',\n",
    "        'type':'online'\n",
    "    },\n",
    "    'Mandavi':{\n",
    "        'college':'HNBGU',\n",
    "        'type':'offline'\n",
    "    }\n",
    "}"
   ]
  },
  {
   "cell_type": "code",
   "execution_count": 5,
   "metadata": {},
   "outputs": [
    {
     "data": {
      "text/plain": [
       "{'college': 'AU', 'type': 'offline'}"
      ]
     },
     "execution_count": 5,
     "metadata": {},
     "output_type": "execute_result"
    }
   ],
   "source": [
    "students['Mazahir']"
   ]
  },
  {
   "cell_type": "code",
   "execution_count": 7,
   "metadata": {},
   "outputs": [
    {
     "name": "stdout",
     "output_type": "stream",
     "text": [
      "{'Maulik': 'MU',\n",
      " 'Aman': 'NPGC',\n",
      " 'Abhay': 'NPGC',\n",
      " 'Mazahir': {'college': 'AU', 'type': 'offline'},\n",
      " 'Imadul': 'IU',\n",
      " 'Prashutosh': 'SHUATS',\n",
      " 'Shoeb': {'college': 'IET', 'type': 'online'},\n",
      " 'Mandavi': {'college': 'HNBGU', 'type': 'offline'}}\n"
     ]
    }
   ],
   "source": [
    "from pprint import pp    #to display dictionary properly where pp stands for pretty print\n",
    "pp(students)"
   ]
  },
  {
   "cell_type": "code",
   "execution_count": 8,
   "metadata": {},
   "outputs": [
    {
     "data": {
      "text/plain": [
       "'AU'"
      ]
     },
     "execution_count": 8,
     "metadata": {},
     "output_type": "execute_result"
    }
   ],
   "source": [
    "students['Mazahir']['college']"
   ]
  },
  {
   "cell_type": "code",
   "execution_count": 9,
   "metadata": {},
   "outputs": [],
   "source": [
    "#add data\n",
    "students['Shreya']={\n",
    "    'college' : 'BBDU',\n",
    "    'Type' : 'online'\n",
    "}"
   ]
  },
  {
   "cell_type": "code",
   "execution_count": 10,
   "metadata": {},
   "outputs": [
    {
     "name": "stdout",
     "output_type": "stream",
     "text": [
      "{'Maulik': 'MU',\n",
      " 'Aman': 'NPGC',\n",
      " 'Abhay': 'NPGC',\n",
      " 'Mazahir': {'college': 'AU', 'type': 'offline'},\n",
      " 'Imadul': 'IU',\n",
      " 'Prashutosh': 'SHUATS',\n",
      " 'Shoeb': {'college': 'IET', 'type': 'online'},\n",
      " 'Mandavi': {'college': 'HNBGU', 'type': 'offline'},\n",
      " 'Shreya': {'college': 'BBDU', 'Type': 'online'}}\n"
     ]
    }
   ],
   "source": [
    "pp(students)"
   ]
  },
  {
   "cell_type": "code",
   "execution_count": 11,
   "metadata": {},
   "outputs": [],
   "source": [
    "students['Shoeb']['type']='flexi'"
   ]
  },
  {
   "cell_type": "code",
   "execution_count": 12,
   "metadata": {},
   "outputs": [
    {
     "name": "stdout",
     "output_type": "stream",
     "text": [
      "{'Maulik': 'MU',\n",
      " 'Aman': 'NPGC',\n",
      " 'Abhay': 'NPGC',\n",
      " 'Mazahir': {'college': 'AU', 'type': 'offline'},\n",
      " 'Imadul': 'IU',\n",
      " 'Prashutosh': 'SHUATS',\n",
      " 'Shoeb': {'college': 'IET', 'type': 'flexi'},\n",
      " 'Mandavi': {'college': 'HNBGU', 'type': 'offline'},\n",
      " 'Shreya': {'college': 'BBDU', 'Type': 'online'}}\n"
     ]
    }
   ],
   "source": [
    "pp(students)"
   ]
  },
  {
   "cell_type": "code",
   "execution_count": 13,
   "metadata": {},
   "outputs": [
    {
     "data": {
      "text/plain": [
       "'NPGC'"
      ]
     },
     "execution_count": 13,
     "metadata": {},
     "output_type": "execute_result"
    }
   ],
   "source": [
    "students.pop('Abhay')"
   ]
  },
  {
   "cell_type": "code",
   "execution_count": 14,
   "metadata": {},
   "outputs": [
    {
     "name": "stdout",
     "output_type": "stream",
     "text": [
      "{'Maulik': 'MU',\n",
      " 'Aman': 'NPGC',\n",
      " 'Mazahir': {'college': 'AU', 'type': 'offline'},\n",
      " 'Imadul': 'IU',\n",
      " 'Prashutosh': 'SHUATS',\n",
      " 'Shoeb': {'college': 'IET', 'type': 'flexi'},\n",
      " 'Mandavi': {'college': 'HNBGU', 'type': 'offline'},\n",
      " 'Shreya': {'college': 'BBDU', 'Type': 'online'}}\n"
     ]
    }
   ],
   "source": [
    "pp(students)"
   ]
  },
  {
   "cell_type": "code",
   "execution_count": 15,
   "metadata": {},
   "outputs": [],
   "source": [
    "students['Mazahir']['Age']='14'"
   ]
  },
  {
   "cell_type": "code",
   "execution_count": 16,
   "metadata": {},
   "outputs": [
    {
     "name": "stdout",
     "output_type": "stream",
     "text": [
      "{'Maulik': 'MU',\n",
      " 'Aman': 'NPGC',\n",
      " 'Mazahir': {'college': 'AU', 'type': 'offline', 'Age': '14'},\n",
      " 'Imadul': 'IU',\n",
      " 'Prashutosh': 'SHUATS',\n",
      " 'Shoeb': {'college': 'IET', 'type': 'flexi'},\n",
      " 'Mandavi': {'college': 'HNBGU', 'type': 'offline'},\n",
      " 'Shreya': {'college': 'BBDU', 'Type': 'online'}}\n"
     ]
    }
   ],
   "source": [
    "pp(students)"
   ]
  },
  {
   "cell_type": "code",
   "execution_count": 19,
   "metadata": {},
   "outputs": [],
   "source": [
    "report = {\n",
    "    'class10' : {\n",
    "        'rohan' : {\n",
    "            'english': 90,\n",
    "            'maths': 95,\n",
    "            'hindi': 85,\n",
    "            'science' : 95,\n",
    "            'social':95,\n",
    "            'pe':95,\n",
    "        },\n",
    "        'mohit' : {\n",
    "            'english': 50,\n",
    "            'maths': 55,\n",
    "            'hindi': 45,\n",
    "            'science' : 55,\n",
    "            'social':55,\n",
    "            'pe':95,},\n",
    "        'shreya':{\n",
    "            'english': 80,\n",
    "            'maths': 95,\n",
    "            'hindi': 85,\n",
    "            'science' : 95,\n",
    "            'social': 95,\n",
    "            'pe': 95,\n",
    "        },\n",
    "        'shubham':{\n",
    "            'english': 90,\n",
    "            'maths': 95,\n",
    "            'hindi': 75,\n",
    "            'science' : 95,\n",
    "            'social':65,\n",
    "            'pe':95,\n",
    "        },\n",
    "        'shruti':{\n",
    "            'english': 40,\n",
    "            'maths': 55,\n",
    "            'hindi': 85,\n",
    "            'science' : 95,\n",
    "            'social':85,\n",
    "            'pe':92,\n",
    "        },\n",
    "        'alex':{\n",
    "            'english': 90,\n",
    "            'maths': 95,\n",
    "            'hindi': 45,\n",
    "            'science' : 95,\n",
    "            'social':65,\n",
    "            'pe':75,\n",
    "        }\n",
    "    }\n",
    "}"
   ]
  },
  {
   "cell_type": "code",
   "execution_count": null,
   "metadata": {},
   "outputs": [],
   "source": [
    "\n",
    "    "
   ]
  },
  {
   "cell_type": "code",
   "execution_count": null,
   "metadata": {},
   "outputs": [],
   "source": []
  }
 ],
 "metadata": {
  "kernelspec": {
   "display_name": "base",
   "language": "python",
   "name": "python3"
  },
  "language_info": {
   "codemirror_mode": {
    "name": "ipython",
    "version": 3
   },
   "file_extension": ".py",
   "mimetype": "text/x-python",
   "name": "python",
   "nbconvert_exporter": "python",
   "pygments_lexer": "ipython3",
   "version": "3.10.10"
  },
  "orig_nbformat": 4
 },
 "nbformat": 4,
 "nbformat_minor": 2
}
