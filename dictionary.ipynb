{
 "cells": [
  {
   "cell_type": "code",
   "execution_count": 2,
   "metadata": {},
   "outputs": [],
   "source": [
    "students = {\n",
    "    'Maulik' : 'MU',\n",
    "    'Aman' : 'NPGC',\n",
    "    'Abhay' : 'NPGC',\n",
    "    'Mazahir' : 'AU',\n",
    "    'Imadul' : 'IU',\n",
    "    'Prashutosh' : 'SHUATS'\n",
    "}"
   ]
  },
  {
   "cell_type": "code",
   "execution_count": 3,
   "metadata": {},
   "outputs": [
    {
     "data": {
      "text/plain": [
       "'AU'"
      ]
     },
     "execution_count": 3,
     "metadata": {},
     "output_type": "execute_result"
    }
   ],
   "source": [
    "students['Mazahir']"
   ]
  },
  {
   "cell_type": "code",
   "execution_count": 4,
   "metadata": {},
   "outputs": [],
   "source": [
    "students = {\n",
    "    'Maulik' : 'MU',\n",
    "    'Aman' : 'NPGC',\n",
    "    'Abhay' : 'NPGC',\n",
    "    'Mazahir' : {'college':'AU',\n",
    "                 'type':'offline'},\n",
    "    'Imadul' : 'IU',\n",
    "    'Prashutosh' : 'SHUATS',\n",
    "    'Shoeb':{\n",
    "        'college':'IET',\n",
    "        'type':'online'\n",
    "    },\n",
    "    'Mandavi':{\n",
    "        'college':'HNBGU',\n",
    "        'type':'offline'\n",
    "    }\n",
    "}"
   ]
  },
  {
   "cell_type": "code",
   "execution_count": 5,
   "metadata": {},
   "outputs": [
    {
     "data": {
      "text/plain": [
       "{'college': 'AU', 'type': 'offline'}"
      ]
     },
     "execution_count": 5,
     "metadata": {},
     "output_type": "execute_result"
    }
   ],
   "source": [
    "students['Mazahir']"
   ]
  },
  {
   "cell_type": "code",
   "execution_count": 7,
   "metadata": {},
   "outputs": [
    {
     "name": "stdout",
     "output_type": "stream",
     "text": [
      "{'Maulik': 'MU',\n",
      " 'Aman': 'NPGC',\n",
      " 'Abhay': 'NPGC',\n",
      " 'Mazahir': {'college': 'AU', 'type': 'offline'},\n",
      " 'Imadul': 'IU',\n",
      " 'Prashutosh': 'SHUATS',\n",
      " 'Shoeb': {'college': 'IET', 'type': 'online'},\n",
      " 'Mandavi': {'college': 'HNBGU', 'type': 'offline'}}\n"
     ]
    }
   ],
   "source": [
    "from pprint import pp    #to display dictionary properly where pp stands for pretty print\n",
    "pp(students)"
   ]
  },
  {
   "cell_type": "code",
   "execution_count": 8,
   "metadata": {},
   "outputs": [
    {
     "data": {
      "text/plain": [
       "'AU'"
      ]
     },
     "execution_count": 8,
     "metadata": {},
     "output_type": "execute_result"
    }
   ],
   "source": [
    "students['Mazahir']['college']"
   ]
  },
  {
   "cell_type": "code",
   "execution_count": 9,
   "metadata": {},
   "outputs": [],
   "source": [
    "#add data\n",
    "students['Shreya']={\n",
    "    'college' : 'BBDU',\n",
    "    'Type' : 'online'\n",
    "}"
   ]
  },
  {
   "cell_type": "code",
   "execution_count": 10,
   "metadata": {},
   "outputs": [
    {
     "name": "stdout",
     "output_type": "stream",
     "text": [
      "{'Maulik': 'MU',\n",
      " 'Aman': 'NPGC',\n",
      " 'Abhay': 'NPGC',\n",
      " 'Mazahir': {'college': 'AU', 'type': 'offline'},\n",
      " 'Imadul': 'IU',\n",
      " 'Prashutosh': 'SHUATS',\n",
      " 'Shoeb': {'college': 'IET', 'type': 'online'},\n",
      " 'Mandavi': {'college': 'HNBGU', 'type': 'offline'},\n",
      " 'Shreya': {'college': 'BBDU', 'Type': 'online'}}\n"
     ]
    }
   ],
   "source": [
    "pp(students)"
   ]
  },
  {
   "cell_type": "code",
   "execution_count": 11,
   "metadata": {},
   "outputs": [],
   "source": [
    "students['Shoeb']['type']='flexi'"
   ]
  },
  {
   "cell_type": "code",
   "execution_count": 12,
   "metadata": {},
   "outputs": [
    {
     "name": "stdout",
     "output_type": "stream",
     "text": [
      "{'Maulik': 'MU',\n",
      " 'Aman': 'NPGC',\n",
      " 'Abhay': 'NPGC',\n",
      " 'Mazahir': {'college': 'AU', 'type': 'offline'},\n",
      " 'Imadul': 'IU',\n",
      " 'Prashutosh': 'SHUATS',\n",
      " 'Shoeb': {'college': 'IET', 'type': 'flexi'},\n",
      " 'Mandavi': {'college': 'HNBGU', 'type': 'offline'},\n",
      " 'Shreya': {'college': 'BBDU', 'Type': 'online'}}\n"
     ]
    }
   ],
   "source": [
    "pp(students)"
   ]
  },
  {
   "cell_type": "code",
   "execution_count": 13,
   "metadata": {},
   "outputs": [
    {
     "data": {
      "text/plain": [
       "'NPGC'"
      ]
     },
     "execution_count": 13,
     "metadata": {},
     "output_type": "execute_result"
    }
   ],
   "source": [
    "students.pop('Abhay')"
   ]
  },
  {
   "cell_type": "code",
   "execution_count": 14,
   "metadata": {},
   "outputs": [
    {
     "name": "stdout",
     "output_type": "stream",
     "text": [
      "{'Maulik': 'MU',\n",
      " 'Aman': 'NPGC',\n",
      " 'Mazahir': {'college': 'AU', 'type': 'offline'},\n",
      " 'Imadul': 'IU',\n",
      " 'Prashutosh': 'SHUATS',\n",
      " 'Shoeb': {'college': 'IET', 'type': 'flexi'},\n",
      " 'Mandavi': {'college': 'HNBGU', 'type': 'offline'},\n",
      " 'Shreya': {'college': 'BBDU', 'Type': 'online'}}\n"
     ]
    }
   ],
   "source": [
    "pp(students)"
   ]
  },
  {
   "cell_type": "code",
   "execution_count": 15,
   "metadata": {},
   "outputs": [],
   "source": [
    "students['Mazahir']['Age']='14'"
   ]
  },
  {
   "cell_type": "code",
   "execution_count": 16,
   "metadata": {},
   "outputs": [
    {
     "name": "stdout",
     "output_type": "stream",
     "text": [
      "{'Maulik': 'MU',\n",
      " 'Aman': 'NPGC',\n",
      " 'Mazahir': {'college': 'AU', 'type': 'offline', 'Age': '14'},\n",
      " 'Imadul': 'IU',\n",
      " 'Prashutosh': 'SHUATS',\n",
      " 'Shoeb': {'college': 'IET', 'type': 'flexi'},\n",
      " 'Mandavi': {'college': 'HNBGU', 'type': 'offline'},\n",
      " 'Shreya': {'college': 'BBDU', 'Type': 'online'}}\n"
     ]
    }
   ],
   "source": [
    "pp(students)"
   ]
  },
  {
   "cell_type": "code",
   "execution_count": 3,
   "metadata": {},
   "outputs": [],
   "source": [
    "report = {\n",
    "    'class10' : {\n",
    "        'rohan' : {\n",
    "            'english': 90,\n",
    "            'maths': 95,\n",
    "            'hindi': 85,\n",
    "            'science' : 95,\n",
    "            'social':95,\n",
    "            'pe':95,\n",
    "        },\n",
    "        'mohit' : {\n",
    "            'english': 50,\n",
    "            'maths': 55,\n",
    "            'hindi': 45,\n",
    "            'science' : 55,\n",
    "            'social':55,\n",
    "            'pe':95,},\n",
    "        'shreya':{\n",
    "            'english': 80,\n",
    "            'maths': 95,\n",
    "            'hindi': 85,\n",
    "            'science' : 95,\n",
    "            'social': 95,\n",
    "            'pe': 95,\n",
    "        },\n",
    "        'shubham':{\n",
    "            'english': 90,\n",
    "            'maths': 95,\n",
    "            'hindi': 75,\n",
    "            'science' : 95,\n",
    "            'social':65,\n",
    "            'pe':95,\n",
    "        },\n",
    "        'shruti':{\n",
    "            'english': 40,\n",
    "            'maths': 55,\n",
    "            'hindi': 85,\n",
    "            'science' : 95,\n",
    "            'social':85,\n",
    "            'pe':92,\n",
    "        },\n",
    "        'alex':{\n",
    "            'english': 90,\n",
    "            'maths': 95,\n",
    "            'hindi': 45,\n",
    "            'science' : 95,\n",
    "            'social':65,\n",
    "            'pe':75,\n",
    "        }\n",
    "    }\n",
    "}"
   ]
  },
  {
   "cell_type": "code",
   "execution_count": 6,
   "metadata": {},
   "outputs": [
    {
     "name": "stdout",
     "output_type": "stream",
     "text": [
      "dict_keys(['class10'])\n"
     ]
    }
   ],
   "source": [
    "print(report.keys())"
   ]
  },
  {
   "cell_type": "code",
   "execution_count": 7,
   "metadata": {},
   "outputs": [
    {
     "name": "stdout",
     "output_type": "stream",
     "text": [
      "dict_keys(['rohan', 'mohit', 'shreya', 'shubham', 'shruti', 'alex'])\n"
     ]
    }
   ],
   "source": [
    "print(report['class10'].keys())"
   ]
  },
  {
   "cell_type": "code",
   "execution_count": 9,
   "metadata": {},
   "outputs": [
    {
     "data": {
      "text/plain": [
       "dict_keys(['english', 'maths', 'hindi', 'science', 'social', 'pe'])"
      ]
     },
     "execution_count": 9,
     "metadata": {},
     "output_type": "execute_result"
    }
   ],
   "source": [
    "report['class10']['rohan'].keys()"
   ]
  },
  {
   "cell_type": "code",
   "execution_count": 15,
   "metadata": {},
   "outputs": [
    {
     "data": {
      "text/plain": [
       "dict_values([{'english': 90, 'maths': 95, 'hindi': 85, 'science': 95, 'social': 95, 'pe': 95}, {'english': 50, 'maths': 55, 'hindi': 45, 'science': 55, 'social': 55, 'pe': 95}, {'english': 80, 'maths': 95, 'hindi': 85, 'science': 95, 'social': 95, 'pe': 95}, {'english': 90, 'maths': 95, 'hindi': 75, 'science': 95, 'social': 65, 'pe': 95}, {'english': 40, 'maths': 55, 'hindi': 85, 'science': 95, 'social': 85, 'pe': 92}, {'english': 90, 'maths': 95, 'hindi': 45, 'science': 95, 'social': 65, 'pe': 75}])"
      ]
     },
     "execution_count": 15,
     "metadata": {},
     "output_type": "execute_result"
    }
   ],
   "source": [
    "report['class10'].values()"
   ]
  },
  {
   "cell_type": "code",
   "execution_count": 16,
   "metadata": {},
   "outputs": [],
   "source": [
    "movies = {\n",
    "    '3 idiots' : 'a story about 3 idiot friends',\n",
    "    'lunchbox' : 'a story about lunchbox',\n",
    "    'dangal' : 'a story about wrestlers',\n",
    "    'pk'  : 'a story about an alien',\n",
    "    'taare zameen par' : 'a story about a dyslexic child',\n",
    "}"
   ]
  },
  {
   "cell_type": "code",
   "execution_count": 17,
   "metadata": {},
   "outputs": [
    {
     "data": {
      "text/plain": [
       "dict_items([('3 idiots', 'a story about 3 idiot friends'), ('lunchbox', 'a story about lunchbox'), ('dangal', 'a story about wrestlers'), ('pk', 'a story about an alien'), ('taare zameen par', 'a story about a dyslexic child')])"
      ]
     },
     "execution_count": 17,
     "metadata": {},
     "output_type": "execute_result"
    }
   ],
   "source": [
    "movies.items()"
   ]
  },
  {
   "cell_type": "code",
   "execution_count": 19,
   "metadata": {},
   "outputs": [
    {
     "name": "stdout",
     "output_type": "stream",
     "text": [
      "3 idiots             a story about 3 idiot friends\n",
      "lunchbox             a story about lunchbox\n",
      "dangal               a story about wrestlers\n",
      "pk                   a story about an alien\n",
      "taare zameen par     a story about a dyslexic child\n"
     ]
    }
   ],
   "source": [
    "for k,v in movies.items():\n",
    "    print(f'{k:20} {v}')"
   ]
  },
  {
   "cell_type": "code",
   "execution_count": 20,
   "metadata": {},
   "outputs": [
    {
     "data": {
      "text/plain": [
       "True"
      ]
     },
     "execution_count": 20,
     "metadata": {},
     "output_type": "execute_result"
    }
   ],
   "source": [
    "isinstance(report['class10'],dict) #verify if the object is a data type"
   ]
  },
  {
   "cell_type": "code",
   "execution_count": 36,
   "metadata": {},
   "outputs": [
    {
     "name": "stdout",
     "output_type": "stream",
     "text": [
      "class10\n",
      "-> rohan\n",
      "  -> english = 90\n",
      "  -> maths = 95\n",
      "  -> hindi = 85\n",
      "  -> science = 95\n",
      "  -> social = 95\n",
      "  -> pe = 95\n",
      " Total-> 555\n",
      "average-> 92\n",
      "-> mohit\n",
      "  -> english = 50\n",
      "  -> maths = 55\n",
      "  -> hindi = 45\n",
      "  -> science = 55\n",
      "  -> social = 55\n",
      "  -> pe = 95\n",
      " Total-> 355\n",
      "average-> 59\n",
      "-> shreya\n",
      "  -> english = 80\n",
      "  -> maths = 95\n",
      "  -> hindi = 85\n",
      "  -> science = 95\n",
      "  -> social = 95\n",
      "  -> pe = 95\n",
      " Total-> 545\n",
      "average-> 90\n",
      "-> shubham\n",
      "  -> english = 90\n",
      "  -> maths = 95\n",
      "  -> hindi = 75\n",
      "  -> science = 95\n",
      "  -> social = 65\n",
      "  -> pe = 95\n",
      " Total-> 515\n",
      "average-> 85\n",
      "-> shruti\n",
      "  -> english = 40\n",
      "  -> maths = 55\n",
      "  -> hindi = 85\n",
      "  -> science = 95\n",
      "  -> social = 85\n",
      "  -> pe = 92\n",
      " Total-> 452\n",
      "average-> 75\n",
      "-> alex\n",
      "  -> english = 90\n",
      "  -> maths = 95\n",
      "  -> hindi = 45\n",
      "  -> science = 95\n",
      "  -> social = 65\n",
      "  -> pe = 75\n",
      " Total-> 465\n",
      "average-> 77\n"
     ]
    }
   ],
   "source": [
    "for cls,students in report.items():\n",
    "    print(cls)\n",
    "    if isinstance(students,dict):\n",
    "        for stdname , subject in students.items():\n",
    "            print('->',stdname)\n",
    "            if isinstance(subject,dict):\n",
    "                total=0\n",
    "                for subname,marks in subject.items():\n",
    "                    print('  ->',subname,'=',marks)\n",
    "                    total+=marks\n",
    "                print(' Total->',total)\n",
    "                print(' average->',total//6)"
   ]
  },
  {
   "cell_type": "code",
   "execution_count": 39,
   "metadata": {},
   "outputs": [
    {
     "name": "stdout",
     "output_type": "stream",
     "text": [
      "class10\n",
      "-> rohan\n",
      "   Total-> 555\n",
      "   Average-> 92\n",
      "-> mohit\n",
      "   Total-> 355\n",
      "   Average-> 59\n",
      "-> shreya\n",
      "   Total-> 545\n",
      "   Average-> 90\n",
      "-> shubham\n",
      "   Total-> 515\n",
      "   Average-> 85\n",
      "-> shruti\n",
      "   Total-> 452\n",
      "   Average-> 75\n",
      "-> alex\n",
      "   Total-> 465\n",
      "   Average-> 77\n"
     ]
    }
   ],
   "source": [
    "#using sum\n",
    "for cls,students in report.items():\n",
    "    print(cls)\n",
    "    if isinstance(students,dict):\n",
    "        for stdname , subject in students.items():\n",
    "            print('->',stdname)\n",
    "            if isinstance(subject,dict):\n",
    "                total=sum(subject.values())\n",
    "                print('   Total->',total)\n",
    "                print('   Average->',total//6)"
   ]
  },
  {
   "cell_type": "code",
   "execution_count": 43,
   "metadata": {},
   "outputs": [
    {
     "name": "stdout",
     "output_type": "stream",
     "text": [
      "class10\n",
      "-> rohan\n",
      "   Max-> 95\n",
      "   Min-> 85\n",
      "-> mohit\n",
      "   Max-> 95\n",
      "   Min-> 45\n",
      "-> shreya\n",
      "   Max-> 95\n",
      "   Min-> 80\n",
      "-> shubham\n",
      "   Max-> 95\n",
      "   Min-> 65\n",
      "-> shruti\n",
      "   Max-> 95\n",
      "   Min-> 40\n",
      "-> alex\n",
      "   Max-> 95\n",
      "   Min-> 45\n"
     ]
    }
   ],
   "source": [
    "for cls,students in report.items():\n",
    "    print(cls)\n",
    "    if isinstance(students,dict):\n",
    "        for stdname , subject in students.items():\n",
    "            print('->',stdname)\n",
    "            if isinstance(subject,dict):\n",
    "                maxi=max(subject.values())\n",
    "                mini=min(subject.values())\n",
    "                print('   Max->',maxi)\n",
    "                print('   Min->',mini)"
   ]
  },
  {
   "cell_type": "code",
   "execution_count": 48,
   "metadata": {},
   "outputs": [
    {
     "name": "stdout",
     "output_type": "stream",
     "text": [
      "class10\n",
      "-> rohan\n",
      "  ->max maths 95\n",
      "-> mohit\n",
      "  ->max pe 95\n",
      "-> shreya\n",
      "  ->max maths 95\n",
      "-> shubham\n",
      "  ->max maths 95\n",
      "-> shruti\n",
      "  ->max science 95\n",
      "-> alex\n",
      "  ->max maths 95\n"
     ]
    }
   ],
   "source": [
    "for cls,students in report.items():\n",
    "    print(cls)\n",
    "    if isinstance(students,dict):\n",
    "        for stdname , subject in students.items():\n",
    "            print('->',stdname)\n",
    "            if isinstance(subject,dict):\n",
    "                maxi=None\n",
    "                sub = None\n",
    "            for subjects , marks in subject.items():\n",
    "                if maxi is None or maxi < marks:\n",
    "                    maxi = marks\n",
    "                    sub = subjects\n",
    "            print('  ->max',sub,maxi)"
   ]
  },
  {
   "cell_type": "code",
   "execution_count": null,
   "metadata": {},
   "outputs": [],
   "source": []
  }
 ],
 "metadata": {
  "kernelspec": {
   "display_name": "base",
   "language": "python",
   "name": "python3"
  },
  "language_info": {
   "codemirror_mode": {
    "name": "ipython",
    "version": 3
   },
   "file_extension": ".py",
   "mimetype": "text/x-python",
   "name": "python",
   "nbconvert_exporter": "python",
   "pygments_lexer": "ipython3",
   "version": "3.10.10"
  },
  "orig_nbformat": 4
 },
 "nbformat": 4,
 "nbformat_minor": 2
}
