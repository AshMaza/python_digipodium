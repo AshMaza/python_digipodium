{
 "cells": [
  {
   "cell_type": "code",
   "execution_count": 46,
   "metadata": {},
   "outputs": [
    {
     "name": "stdout",
     "output_type": "stream",
     "text": [
      "['WhatsApp', 'Youtube', 'Duolingo', 'Gpay', 'Paypal', 'Paytm', 'Zomato', 'Maps', 'Drive', 'Camera', 'Gallery', 'PdfConverter', 'Outlook', 'gmail', 'google', 'chrome', 'grow', 'Hotstar']\n"
     ]
    }
   ],
   "source": [
    "a=['WhatsApp','Youtube','Duolingo','Gpay','Paypal','Paytm','Zomato','Maps','Drive','Camera','Gallery','PdfConverter','Outlook','gmail','google','chrome','grow']\n",
    "a.append('Hotstar')\n",
    "print(a)"
   ]
  },
  {
   "cell_type": "code",
   "execution_count": 47,
   "metadata": {},
   "outputs": [
    {
     "name": "stdout",
     "output_type": "stream",
     "text": [
      "['TheIndianExpress', 'WhatsApp', 'Youtube', 'Duolingo', 'Gpay', 'Paypal', 'Paytm', 'Zomato', 'Maps', 'Drive', 'Camera', 'Gallery', 'PdfConverter', 'Outlook', 'gmail', 'google', 'chrome', 'grow', 'Hotstar']\n"
     ]
    }
   ],
   "source": [
    "a.insert(0,'TheIndianExpress')\n",
    "print(a)"
   ]
  },
  {
   "cell_type": "code",
   "execution_count": 48,
   "metadata": {},
   "outputs": [
    {
     "name": "stdout",
     "output_type": "stream",
     "text": [
      "19\n"
     ]
    }
   ],
   "source": [
    "print(len(a))"
   ]
  },
  {
   "cell_type": "code",
   "execution_count": 49,
   "metadata": {},
   "outputs": [
    {
     "name": "stdout",
     "output_type": "stream",
     "text": [
      "['1', '4', '6', '8']\n"
     ]
    }
   ],
   "source": [
    "b=['6','8','4','1']\n",
    "b.sort()\n",
    "print(b)"
   ]
  },
  {
   "cell_type": "code",
   "execution_count": 50,
   "metadata": {},
   "outputs": [
    {
     "name": "stdout",
     "output_type": "stream",
     "text": [
      "['1', '4', '6']\n"
     ]
    }
   ],
   "source": [
    "b.pop()\n",
    "print(b)"
   ]
  },
  {
   "cell_type": "code",
   "execution_count": 51,
   "metadata": {},
   "outputs": [
    {
     "name": "stdout",
     "output_type": "stream",
     "text": [
      "['1', '6']\n"
     ]
    }
   ],
   "source": [
    "b.pop(1)\n",
    "print(b)"
   ]
  },
  {
   "cell_type": "code",
   "execution_count": 52,
   "metadata": {},
   "outputs": [
    {
     "name": "stdout",
     "output_type": "stream",
     "text": [
      "['Hotstar', 'grow', 'chrome', 'google', 'gmail', 'Outlook', 'PdfConverter', 'Gallery', 'Camera', 'Drive', 'Maps', 'Zomato', 'Paytm', 'Paypal', 'Gpay', 'Duolingo', 'Youtube', 'WhatsApp', 'TheIndianExpress']\n"
     ]
    }
   ],
   "source": [
    "a.reverse()\n",
    "print(a)"
   ]
  },
  {
   "cell_type": "code",
   "execution_count": 53,
   "metadata": {},
   "outputs": [
    {
     "name": "stdout",
     "output_type": "stream",
     "text": [
      "['Hotstar', 'chrome', 'google', 'gmail', 'Outlook', 'PdfConverter', 'Gallery', 'Camera', 'Drive', 'Maps', 'Zomato', 'Paytm', 'Paypal', 'Gpay', 'Duolingo', 'Youtube', 'WhatsApp', 'TheIndianExpress']\n"
     ]
    }
   ],
   "source": [
    "a.remove('grow')\n",
    "print(a)"
   ]
  },
  {
   "cell_type": "code",
   "execution_count": 54,
   "metadata": {},
   "outputs": [
    {
     "name": "stdout",
     "output_type": "stream",
     "text": [
      "18\n"
     ]
    }
   ],
   "source": [
    "print(len(a))"
   ]
  },
  {
   "cell_type": "code",
   "execution_count": 55,
   "metadata": {},
   "outputs": [
    {
     "name": "stdout",
     "output_type": "stream",
     "text": [
      "['Hello World']\n"
     ]
    }
   ],
   "source": [
    "c=['Hello World']\n",
    "print(c)"
   ]
  },
  {
   "cell_type": "code",
   "execution_count": 56,
   "metadata": {},
   "outputs": [
    {
     "name": "stdout",
     "output_type": "stream",
     "text": [
      "['Hello World', 'Mazahir']\n"
     ]
    }
   ],
   "source": [
    "c.append('Mazahir')\n",
    "print(c)"
   ]
  },
  {
   "cell_type": "code",
   "execution_count": 58,
   "metadata": {},
   "outputs": [
    {
     "name": "stdout",
     "output_type": "stream",
     "text": [
      "['Hello', 'world', 'this', 'is']\n",
      "['world', 'this', 'is']\n",
      "['world', 'this']\n"
     ]
    }
   ],
   "source": [
    "#to delete the elements\n",
    "d=['Hello','world','this','is','mazahir']\n",
    "d.pop()\n",
    "print(d)\n",
    "d.remove('Hello')\n",
    "print(d)\n",
    "d.pop(2)\n",
    "print(d)"
   ]
  },
  {
   "cell_type": "code",
   "execution_count": 60,
   "metadata": {},
   "outputs": [
    {
     "name": "stdout",
     "output_type": "stream",
     "text": [
      "['a', 'b', 'c', 'd', 'e']\n"
     ]
    }
   ],
   "source": [
    "e=['d','e','b','c','a']\n",
    "e.sort()\n",
    "print(e)"
   ]
  },
  {
   "cell_type": "code",
   "execution_count": 62,
   "metadata": {},
   "outputs": [
    {
     "name": "stdout",
     "output_type": "stream",
     "text": [
      "4\n"
     ]
    }
   ],
   "source": [
    "#count function\n",
    "f=['a','b','a','c','a','d','a']\n",
    "x=f.count('a')\n",
    "print(x)"
   ]
  },
  {
   "cell_type": "code",
   "execution_count": 64,
   "metadata": {},
   "outputs": [
    {
     "name": "stdout",
     "output_type": "stream",
     "text": [
      "['a', 'b', 'a', 'c', 'a', 'd', 'a']\n"
     ]
    }
   ],
   "source": [
    "#copy function\n",
    "z=f.copy()\n",
    "print(z)"
   ]
  },
  {
   "cell_type": "code",
   "execution_count": 65,
   "metadata": {},
   "outputs": [
    {
     "name": "stdout",
     "output_type": "stream",
     "text": [
      "[]\n"
     ]
    }
   ],
   "source": [
    "z.clear()\n",
    "print(z)"
   ]
  },
  {
   "cell_type": "code",
   "execution_count": 66,
   "metadata": {},
   "outputs": [
    {
     "name": "stdout",
     "output_type": "stream",
     "text": [
      "['Hello', 'World', 'This', 'is', 'me']\n"
     ]
    }
   ],
   "source": [
    "start=['Hello','World']\n",
    "end=['This','is','me']\n",
    "start.extend(end)\n",
    "print(start)"
   ]
  },
  {
   "cell_type": "code",
   "execution_count": 67,
   "metadata": {},
   "outputs": [
    {
     "name": "stdout",
     "output_type": "stream",
     "text": [
      "1\n"
     ]
    }
   ],
   "source": [
    "x=start.index('World')\n",
    "print(x)"
   ]
  },
  {
   "cell_type": "code",
   "execution_count": 68,
   "metadata": {},
   "outputs": [
    {
     "name": "stdout",
     "output_type": "stream",
     "text": [
      "45 9 1\n"
     ]
    }
   ],
   "source": [
    "x=[1,2,3,4,5,6,7,8,9]\n",
    "y=sum(x)\n",
    "z=max(x)\n",
    "e=min(x)\n",
    "print(y,z,e)"
   ]
  },
  {
   "cell_type": "code",
   "execution_count": null,
   "metadata": {},
   "outputs": [],
   "source": []
  }
 ],
 "metadata": {
  "kernelspec": {
   "display_name": "base",
   "language": "python",
   "name": "python3"
  },
  "language_info": {
   "codemirror_mode": {
    "name": "ipython",
    "version": 3
   },
   "file_extension": ".py",
   "mimetype": "text/x-python",
   "name": "python",
   "nbconvert_exporter": "python",
   "pygments_lexer": "ipython3",
   "version": "3.10.10"
  },
  "orig_nbformat": 4
 },
 "nbformat": 4,
 "nbformat_minor": 2
}
