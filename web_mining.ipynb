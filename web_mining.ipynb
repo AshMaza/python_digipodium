{
 "cells": [
  {
   "cell_type": "markdown",
   "metadata": {},
   "source": [
    "pip install dputils sqlalchemy"
   ]
  },
  {
   "cell_type": "code",
   "execution_count": 1,
   "metadata": {},
   "outputs": [],
   "source": [
    "from dputils.scrape import Tag , Scraper"
   ]
  },
  {
   "cell_type": "code",
   "execution_count": 2,
   "metadata": {},
   "outputs": [],
   "source": [
    "url = 'https://timesofindia.indiatimes.com/?from=mdr'\n",
    "\n",
    "#create a scraper object\n",
    "\n",
    "scr = Scraper(url)"
   ]
  },
  {
   "cell_type": "markdown",
   "metadata": {},
   "source": [
    "1. target tag\n",
    "2. repeating item tag\n",
    "3. what to extract"
   ]
  },
  {
   "cell_type": "code",
   "execution_count": 4,
   "metadata": {},
   "outputs": [],
   "source": [
    "target = Tag('div', cls='atWBy Q6d5H grid_wrapper')\n",
    "items = Tag('div')\n",
    "title = Tag('div',cls='col_1_6')\n",
    "imgurl  = Tag('img',output='src')"
   ]
  },
  {
   "cell_type": "code",
   "execution_count": 5,
   "metadata": {},
   "outputs": [
    {
     "data": {
      "text/plain": [
       "[{'title': None,\n",
       "  'img': 'https://static.toiimg.com/photo/msid-25581306/25581306.jpg'},\n",
       " {'title': None,\n",
       "  'img': 'https://static.toiimg.com/photo/msid-25581306/25581306.jpg'},\n",
       " {'title': None,\n",
       "  'img': 'https://static.toiimg.com/photo/msid-25581306/25581306.jpg'},\n",
       " {'title': None,\n",
       "  'img': 'https://static.toiimg.com/photo/msid-25581306/25581306.jpg'},\n",
       " {'title': None,\n",
       "  'img': 'https://static.toiimg.com/photo/msid-25581306/25581306.jpg'},\n",
       " {'title': None,\n",
       "  'img': 'https://static.toiimg.com/photo/msid-25581306/25581306.jpg'},\n",
       " {'title': None,\n",
       "  'img': 'https://static.toiimg.com/photo/msid-25581306/25581306.jpg'},\n",
       " {'title': None,\n",
       "  'img': 'https://static.toiimg.com/photo/msid-25581306/25581306.jpg'},\n",
       " {'title': None,\n",
       "  'img': 'https://static.toiimg.com/photo/msid-25581306/25581306.jpg'},\n",
       " {'title': None,\n",
       "  'img': 'https://static.toiimg.com/photo/msid-25581306/25581306.jpg'},\n",
       " {'title': None,\n",
       "  'img': 'https://static.toiimg.com/photo/msid-25581306/25581306.jpg'},\n",
       " {'title': None,\n",
       "  'img': 'https://static.toiimg.com/photo/msid-25581306/25581306.jpg'},\n",
       " {'title': None,\n",
       "  'img': 'https://static.toiimg.com/photo/msid-25581306/25581306.jpg'},\n",
       " {'title': None,\n",
       "  'img': 'https://static.toiimg.com/photo/msid-25581306/25581306.jpg'},\n",
       " {'title': None,\n",
       "  'img': 'https://static.toiimg.com/photo/msid-25581306/25581306.jpg'},\n",
       " {'title': None, 'img': None},\n",
       " {'title': None,\n",
       "  'img': 'https://static.toiimg.com/photo/msid-25581306/25581306.jpg'},\n",
       " {'title': None,\n",
       "  'img': 'https://static.toiimg.com/photo/msid-25581306/25581306.jpg'},\n",
       " {'title': None,\n",
       "  'img': 'https://static.toiimg.com/photo/msid-25581306/25581306.jpg'},\n",
       " {'title': None,\n",
       "  'img': 'https://static.toiimg.com/photo/msid-25581306/25581306.jpg'},\n",
       " {'title': None,\n",
       "  'img': 'https://static.toiimg.com/photo/msid-25581306/25581306.jpg'},\n",
       " {'title': None,\n",
       "  'img': 'https://static.toiimg.com/photo/msid-25581306/25581306.jpg'},\n",
       " {'title': None,\n",
       "  'img': 'https://static.toiimg.com/photo/msid-25581306/25581306.jpg'},\n",
       " {'title': None,\n",
       "  'img': 'https://static.toiimg.com/photo/msid-25581306/25581306.jpg'},\n",
       " {'title': None,\n",
       "  'img': 'https://static.toiimg.com/photo/msid-25581306/25581306.jpg'},\n",
       " {'title': None,\n",
       "  'img': 'https://static.toiimg.com/photo/msid-25581306/25581306.jpg'},\n",
       " {'title': None,\n",
       "  'img': 'https://static.toiimg.com/photo/msid-25581306/25581306.jpg'},\n",
       " {'title': None,\n",
       "  'img': 'https://static.toiimg.com/photo/msid-25581306/25581306.jpg'},\n",
       " {'title': None,\n",
       "  'img': 'https://static.toiimg.com/photo/msid-25581306/25581306.jpg'},\n",
       " {'title': None,\n",
       "  'img': 'https://static.toiimg.com/photo/msid-25581306/25581306.jpg'},\n",
       " {'title': None,\n",
       "  'img': 'https://static.toiimg.com/photo/msid-25581306/25581306.jpg'},\n",
       " {'title': None,\n",
       "  'img': 'https://static.toiimg.com/photo/msid-25581306/25581306.jpg'},\n",
       " {'title': None,\n",
       "  'img': 'https://static.toiimg.com/photo/msid-25581306/25581306.jpg'},\n",
       " {'title': None,\n",
       "  'img': 'https://static.toiimg.com/photo/msid-25581306/25581306.jpg'},\n",
       " {'title': None,\n",
       "  'img': 'https://static.toiimg.com/photo/msid-25581306/25581306.jpg'},\n",
       " {'title': None,\n",
       "  'img': 'https://static.toiimg.com/photo/msid-25581306/25581306.jpg'},\n",
       " {'title': None,\n",
       "  'img': 'https://static.toiimg.com/photo/msid-25581306/25581306.jpg'},\n",
       " {'title': None,\n",
       "  'img': 'https://static.toiimg.com/photo/msid-25581306/25581306.jpg'},\n",
       " {'title': None,\n",
       "  'img': 'https://static.toiimg.com/photo/msid-25581306/25581306.jpg'},\n",
       " {'title': None,\n",
       "  'img': 'https://static.toiimg.com/photo/msid-25581306/25581306.jpg'},\n",
       " {'title': None,\n",
       "  'img': 'https://static.toiimg.com/photo/msid-25581306/25581306.jpg'},\n",
       " {'title': None,\n",
       "  'img': 'https://static.toiimg.com/photo/msid-25581306/25581306.jpg'},\n",
       " {'title': None,\n",
       "  'img': 'https://static.toiimg.com/photo/msid-25581306/25581306.jpg'},\n",
       " {'title': None,\n",
       "  'img': 'https://static.toiimg.com/photo/msid-25581306/25581306.jpg'},\n",
       " {'title': None,\n",
       "  'img': 'https://static.toiimg.com/photo/msid-25581306/25581306.jpg'},\n",
       " {'title': None,\n",
       "  'img': 'https://static.toiimg.com/photo/msid-25581306/25581306.jpg'},\n",
       " {'title': None,\n",
       "  'img': 'https://static.toiimg.com/photo/msid-25581306/25581306.jpg'},\n",
       " {'title': None,\n",
       "  'img': 'https://static.toiimg.com/photo/msid-25581306/25581306.jpg'},\n",
       " {'title': None,\n",
       "  'img': 'https://static.toiimg.com/photo/msid-25581306/25581306.jpg'},\n",
       " {'title': None,\n",
       "  'img': 'https://static.toiimg.com/photo/msid-25581306/25581306.jpg'},\n",
       " {'title': None,\n",
       "  'img': 'https://static.toiimg.com/photo/msid-25581306/25581306.jpg'},\n",
       " {'title': None,\n",
       "  'img': 'https://static.toiimg.com/photo/msid-25581306/25581306.jpg'},\n",
       " {'title': None, 'img': 'https://static.toiimg.com/photo/70446270.cms'},\n",
       " {'title': None,\n",
       "  'img': 'https://static.toiimg.com/photo/msid-25581306/25581306.jpg'},\n",
       " {'title': None,\n",
       "  'img': 'https://static.toiimg.com/photo/msid-25581306/25581306.jpg'},\n",
       " {'title': None,\n",
       "  'img': 'https://static.toiimg.com/photo/msid-25581306/25581306.jpg'},\n",
       " {'title': None,\n",
       "  'img': 'https://static.toiimg.com/photo/msid-25581306/25581306.jpg'},\n",
       " {'title': None,\n",
       "  'img': 'https://static.toiimg.com/photo/msid-25581306/25581306.jpg'},\n",
       " {'title': None,\n",
       "  'img': 'https://static.toiimg.com/photo/msid-25581306/25581306.jpg'},\n",
       " {'title': None,\n",
       "  'img': 'https://static.toiimg.com/photo/msid-25581306/25581306.jpg'},\n",
       " {'title': None,\n",
       "  'img': 'https://static.toiimg.com/photo/msid-25581306/25581306.jpg'},\n",
       " {'title': None,\n",
       "  'img': 'https://static.toiimg.com/photo/msid-25581306/25581306.jpg'},\n",
       " {'title': None,\n",
       "  'img': 'https://static.toiimg.com/photo/msid-25581306/25581306.jpg'},\n",
       " {'title': None,\n",
       "  'img': 'https://static.toiimg.com/photo/msid-25581306/25581306.jpg'},\n",
       " {'title': None,\n",
       "  'img': 'https://static.toiimg.com/photo/msid-25581306/25581306.jpg'}]"
      ]
     },
     "execution_count": 5,
     "metadata": {},
     "output_type": "execute_result"
    }
   ],
   "source": [
    "scr.get_all(target,items,title=title,img=imgurl)"
   ]
  },
  {
   "cell_type": "code",
   "execution_count": 6,
   "metadata": {},
   "outputs": [],
   "source": [
    "flip_url='https://www.flipkart.com/search?q=laptops&as=on&as-show=on&otracker=AS_Query_TrendingAutoSuggest_9_0_na_na_na&otracker1=AS_Query_TrendingAutoSuggest_9_0_na_na_na&as-pos=9&as-type=TRENDING&suggestionId=laptops&requestId=7ac9ae20-3487-4152-ab23-b0e4f41cd29d'\n",
    "\n",
    "src = Scraper(url)"
   ]
  },
  {
   "cell_type": "code",
   "execution_count": 15,
   "metadata": {},
   "outputs": [
    {
     "name": "stdout",
     "output_type": "stream",
     "text": [
      "Error -> Error: target=ℹ️--[tag: div attrs: {'class': '_1YokD2 _2GoDe3'} output: text]-- not found\n"
     ]
    },
    {
     "data": {
      "text/plain": [
       "[]"
      ]
     },
     "execution_count": 15,
     "metadata": {},
     "output_type": "execute_result"
    }
   ],
   "source": [
    "target = Tag(cls='_1YokD2 _2GoDe3')\n",
    "items = Tag(cls='_2kHMtA')\n",
    "title = Tag(cls='_4rR01T')\n",
    "price = Tag(cls='_30jeq3 _1_WHN1')\n",
    "num_reviews = Tag('span',cls='_2_R_DZ')\n",
    "\n",
    "result = scr.get_all(target,items,title=title,price=price,num_reviews=num_reviews,errors=True)\n",
    "result\n"
   ]
  },
  {
   "cell_type": "code",
   "execution_count": null,
   "metadata": {},
   "outputs": [],
   "source": []
  }
 ],
 "metadata": {
  "kernelspec": {
   "display_name": "base",
   "language": "python",
   "name": "python3"
  },
  "language_info": {
   "codemirror_mode": {
    "name": "ipython",
    "version": 3
   },
   "file_extension": ".py",
   "mimetype": "text/x-python",
   "name": "python",
   "nbconvert_exporter": "python",
   "pygments_lexer": "ipython3",
   "version": "3.10.10"
  },
  "orig_nbformat": 4
 },
 "nbformat": 4,
 "nbformat_minor": 2
}
