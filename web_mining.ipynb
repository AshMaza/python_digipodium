{
 "cells": [
  {
   "cell_type": "markdown",
   "metadata": {},
   "source": [
    "pip install dputils sqlalchemy"
   ]
  },
  {
   "cell_type": "code",
   "execution_count": 1,
   "metadata": {},
   "outputs": [],
   "source": [
    "from dputils.scrape import Tag , Scraper"
   ]
  },
  {
   "cell_type": "code",
   "execution_count": 2,
   "metadata": {},
   "outputs": [],
   "source": [
    "url = 'https://timesofindia.indiatimes.com/?from=mdr'\n",
    "\n",
    "#create a scraper object\n",
    "\n",
    "scr = Scraper(url)"
   ]
  },
  {
   "cell_type": "markdown",
   "metadata": {},
   "source": [
    "1. target tag\n",
    "2. repeating item tag\n",
    "3. what to extract"
   ]
  },
  {
   "cell_type": "code",
   "execution_count": 4,
   "metadata": {},
   "outputs": [],
   "source": [
    "target = Tag('div', cls='atWBy Q6d5H grid_wrapper')\n",
    "items = Tag('div')\n",
    "title = Tag('div',cls='col_1_6')\n",
    "imgurl  = Tag('img',output='src')"
   ]
  },
  {
   "cell_type": "code",
   "execution_count": 5,
   "metadata": {},
   "outputs": [
    {
     "data": {
      "text/plain": [
       "[{'title': None,\n",
       "  'img': 'https://static.toiimg.com/photo/msid-25581306/25581306.jpg'},\n",
       " {'title': None,\n",
       "  'img': 'https://static.toiimg.com/photo/msid-25581306/25581306.jpg'},\n",
       " {'title': None,\n",
       "  'img': 'https://static.toiimg.com/photo/msid-25581306/25581306.jpg'},\n",
       " {'title': None,\n",
       "  'img': 'https://static.toiimg.com/photo/msid-25581306/25581306.jpg'},\n",
       " {'title': None,\n",
       "  'img': 'https://static.toiimg.com/photo/msid-25581306/25581306.jpg'},\n",
       " {'title': None,\n",
       "  'img': 'https://static.toiimg.com/photo/msid-25581306/25581306.jpg'},\n",
       " {'title': None,\n",
       "  'img': 'https://static.toiimg.com/photo/msid-25581306/25581306.jpg'},\n",
       " {'title': None,\n",
       "  'img': 'https://static.toiimg.com/photo/msid-25581306/25581306.jpg'},\n",
       " {'title': None,\n",
       "  'img': 'https://static.toiimg.com/photo/msid-25581306/25581306.jpg'},\n",
       " {'title': None,\n",
       "  'img': 'https://static.toiimg.com/photo/msid-25581306/25581306.jpg'},\n",
       " {'title': None,\n",
       "  'img': 'https://static.toiimg.com/photo/msid-25581306/25581306.jpg'},\n",
       " {'title': None,\n",
       "  'img': 'https://static.toiimg.com/photo/msid-25581306/25581306.jpg'},\n",
       " {'title': None,\n",
       "  'img': 'https://static.toiimg.com/photo/msid-25581306/25581306.jpg'},\n",
       " {'title': None,\n",
       "  'img': 'https://static.toiimg.com/photo/msid-25581306/25581306.jpg'},\n",
       " {'title': None,\n",
       "  'img': 'https://static.toiimg.com/photo/msid-25581306/25581306.jpg'},\n",
       " {'title': None, 'img': None},\n",
       " {'title': None,\n",
       "  'img': 'https://static.toiimg.com/photo/msid-25581306/25581306.jpg'},\n",
       " {'title': None,\n",
       "  'img': 'https://static.toiimg.com/photo/msid-25581306/25581306.jpg'},\n",
       " {'title': None,\n",
       "  'img': 'https://static.toiimg.com/photo/msid-25581306/25581306.jpg'},\n",
       " {'title': None,\n",
       "  'img': 'https://static.toiimg.com/photo/msid-25581306/25581306.jpg'},\n",
       " {'title': None,\n",
       "  'img': 'https://static.toiimg.com/photo/msid-25581306/25581306.jpg'},\n",
       " {'title': None,\n",
       "  'img': 'https://static.toiimg.com/photo/msid-25581306/25581306.jpg'},\n",
       " {'title': None,\n",
       "  'img': 'https://static.toiimg.com/photo/msid-25581306/25581306.jpg'},\n",
       " {'title': None,\n",
       "  'img': 'https://static.toiimg.com/photo/msid-25581306/25581306.jpg'},\n",
       " {'title': None,\n",
       "  'img': 'https://static.toiimg.com/photo/msid-25581306/25581306.jpg'},\n",
       " {'title': None,\n",
       "  'img': 'https://static.toiimg.com/photo/msid-25581306/25581306.jpg'},\n",
       " {'title': None,\n",
       "  'img': 'https://static.toiimg.com/photo/msid-25581306/25581306.jpg'},\n",
       " {'title': None,\n",
       "  'img': 'https://static.toiimg.com/photo/msid-25581306/25581306.jpg'},\n",
       " {'title': None,\n",
       "  'img': 'https://static.toiimg.com/photo/msid-25581306/25581306.jpg'},\n",
       " {'title': None,\n",
       "  'img': 'https://static.toiimg.com/photo/msid-25581306/25581306.jpg'},\n",
       " {'title': None,\n",
       "  'img': 'https://static.toiimg.com/photo/msid-25581306/25581306.jpg'},\n",
       " {'title': None,\n",
       "  'img': 'https://static.toiimg.com/photo/msid-25581306/25581306.jpg'},\n",
       " {'title': None,\n",
       "  'img': 'https://static.toiimg.com/photo/msid-25581306/25581306.jpg'},\n",
       " {'title': None,\n",
       "  'img': 'https://static.toiimg.com/photo/msid-25581306/25581306.jpg'},\n",
       " {'title': None,\n",
       "  'img': 'https://static.toiimg.com/photo/msid-25581306/25581306.jpg'},\n",
       " {'title': None,\n",
       "  'img': 'https://static.toiimg.com/photo/msid-25581306/25581306.jpg'},\n",
       " {'title': None,\n",
       "  'img': 'https://static.toiimg.com/photo/msid-25581306/25581306.jpg'},\n",
       " {'title': None,\n",
       "  'img': 'https://static.toiimg.com/photo/msid-25581306/25581306.jpg'},\n",
       " {'title': None,\n",
       "  'img': 'https://static.toiimg.com/photo/msid-25581306/25581306.jpg'},\n",
       " {'title': None,\n",
       "  'img': 'https://static.toiimg.com/photo/msid-25581306/25581306.jpg'},\n",
       " {'title': None,\n",
       "  'img': 'https://static.toiimg.com/photo/msid-25581306/25581306.jpg'},\n",
       " {'title': None,\n",
       "  'img': 'https://static.toiimg.com/photo/msid-25581306/25581306.jpg'},\n",
       " {'title': None,\n",
       "  'img': 'https://static.toiimg.com/photo/msid-25581306/25581306.jpg'},\n",
       " {'title': None,\n",
       "  'img': 'https://static.toiimg.com/photo/msid-25581306/25581306.jpg'},\n",
       " {'title': None,\n",
       "  'img': 'https://static.toiimg.com/photo/msid-25581306/25581306.jpg'},\n",
       " {'title': None,\n",
       "  'img': 'https://static.toiimg.com/photo/msid-25581306/25581306.jpg'},\n",
       " {'title': None,\n",
       "  'img': 'https://static.toiimg.com/photo/msid-25581306/25581306.jpg'},\n",
       " {'title': None,\n",
       "  'img': 'https://static.toiimg.com/photo/msid-25581306/25581306.jpg'},\n",
       " {'title': None,\n",
       "  'img': 'https://static.toiimg.com/photo/msid-25581306/25581306.jpg'},\n",
       " {'title': None,\n",
       "  'img': 'https://static.toiimg.com/photo/msid-25581306/25581306.jpg'},\n",
       " {'title': None,\n",
       "  'img': 'https://static.toiimg.com/photo/msid-25581306/25581306.jpg'},\n",
       " {'title': None,\n",
       "  'img': 'https://static.toiimg.com/photo/msid-25581306/25581306.jpg'},\n",
       " {'title': None, 'img': 'https://static.toiimg.com/photo/70446270.cms'},\n",
       " {'title': None,\n",
       "  'img': 'https://static.toiimg.com/photo/msid-25581306/25581306.jpg'},\n",
       " {'title': None,\n",
       "  'img': 'https://static.toiimg.com/photo/msid-25581306/25581306.jpg'},\n",
       " {'title': None,\n",
       "  'img': 'https://static.toiimg.com/photo/msid-25581306/25581306.jpg'},\n",
       " {'title': None,\n",
       "  'img': 'https://static.toiimg.com/photo/msid-25581306/25581306.jpg'},\n",
       " {'title': None,\n",
       "  'img': 'https://static.toiimg.com/photo/msid-25581306/25581306.jpg'},\n",
       " {'title': None,\n",
       "  'img': 'https://static.toiimg.com/photo/msid-25581306/25581306.jpg'},\n",
       " {'title': None,\n",
       "  'img': 'https://static.toiimg.com/photo/msid-25581306/25581306.jpg'},\n",
       " {'title': None,\n",
       "  'img': 'https://static.toiimg.com/photo/msid-25581306/25581306.jpg'},\n",
       " {'title': None,\n",
       "  'img': 'https://static.toiimg.com/photo/msid-25581306/25581306.jpg'},\n",
       " {'title': None,\n",
       "  'img': 'https://static.toiimg.com/photo/msid-25581306/25581306.jpg'},\n",
       " {'title': None,\n",
       "  'img': 'https://static.toiimg.com/photo/msid-25581306/25581306.jpg'},\n",
       " {'title': None,\n",
       "  'img': 'https://static.toiimg.com/photo/msid-25581306/25581306.jpg'}]"
      ]
     },
     "execution_count": 5,
     "metadata": {},
     "output_type": "execute_result"
    }
   ],
   "source": [
    "scr.get_all(target,items,title=title,img=imgurl)"
   ]
  },
  {
   "cell_type": "code",
   "execution_count": 6,
   "metadata": {},
   "outputs": [],
   "source": [
    "flip_url='https://www.flipkart.com/search?q=laptops&as=on&as-show=on&otracker=AS_Query_TrendingAutoSuggest_9_0_na_na_na&otracker1=AS_Query_TrendingAutoSuggest_9_0_na_na_na&as-pos=9&as-type=TRENDING&suggestionId=laptops&requestId=7ac9ae20-3487-4152-ab23-b0e4f41cd29d'\n",
    "\n",
    "src = Scraper(url)"
   ]
  },
  {
   "cell_type": "code",
   "execution_count": 16,
   "metadata": {},
   "outputs": [
    {
     "name": "stdout",
     "output_type": "stream",
     "text": [
      "Error -> Error: target=ℹ️--[tag: div attrs: {'class': '_1YokD2 _2GoDe3'} output: text]-- not found\n"
     ]
    },
    {
     "data": {
      "text/plain": [
       "[]"
      ]
     },
     "execution_count": 16,
     "metadata": {},
     "output_type": "execute_result"
    }
   ],
   "source": [
    "target = Tag(cls='_1YokD2 _2GoDe3')\n",
    "items = Tag(cls='_2kHMtA')\n",
    "title = Tag(cls='_4rR01T')\n",
    "price = Tag(cls='_30jeq3 _1_WHN1')\n",
    "num_reviews = Tag('span',cls='_2_R_DZ')\n",
    "\n",
    "result = scr.get_all(target,items,title=title,price=price,num_reviews=num_reviews,errors=True)\n",
    "result\n"
   ]
  },
  {
   "cell_type": "code",
   "execution_count": 17,
   "metadata": {},
   "outputs": [],
   "source": [
    "#sql alchemy\n",
    "from sqlalchemy import create_engine\n",
    "from sqlalchemy.ext.declarative import declarative_base\n",
    "from sqlalchemy import column , Integer , String\n",
    "from sqlalchemy.orm import sessionmaker"
   ]
  },
  {
   "cell_type": "code",
   "execution_count": 20,
   "metadata": {},
   "outputs": [
    {
     "name": "stderr",
     "output_type": "stream",
     "text": [
      "C:\\Users\\mazah\\AppData\\Local\\Temp\\ipykernel_18036\\1614771099.py:1: MovedIn20Warning: The ``declarative_base()`` function is now available as sqlalchemy.orm.declarative_base(). (deprecated since: 2.0) (Background on SQLAlchemy 2.0 at: https://sqlalche.me/e/b8d9)\n",
      "  Base = declarative_base()\n"
     ]
    },
    {
     "ename": "TypeError",
     "evalue": "column() got an unexpected keyword argument 'primary_key'",
     "output_type": "error",
     "traceback": [
      "\u001b[1;31m---------------------------------------------------------------------------\u001b[0m",
      "\u001b[1;31mTypeError\u001b[0m                                 Traceback (most recent call last)",
      "Cell \u001b[1;32mIn[20], line 2\u001b[0m\n\u001b[0;32m      1\u001b[0m Base \u001b[39m=\u001b[39m declarative_base()\n\u001b[1;32m----> 2\u001b[0m \u001b[39mclass\u001b[39;00m \u001b[39mProduct\u001b[39;00m(Base):\n\u001b[0;32m      3\u001b[0m     __tablename__\u001b[39m=\u001b[39m\u001b[39m'\u001b[39m\u001b[39mproducts\u001b[39m\u001b[39m'\u001b[39m\n\u001b[0;32m      4\u001b[0m     \u001b[39mid\u001b[39m \u001b[39m=\u001b[39m column(Integer,primary_key\u001b[39m=\u001b[39m\u001b[39mTrue\u001b[39;00m)\n",
      "Cell \u001b[1;32mIn[20], line 4\u001b[0m, in \u001b[0;36mProduct\u001b[1;34m()\u001b[0m\n\u001b[0;32m      2\u001b[0m \u001b[39mclass\u001b[39;00m \u001b[39mProduct\u001b[39;00m(Base):\n\u001b[0;32m      3\u001b[0m     __tablename__\u001b[39m=\u001b[39m\u001b[39m'\u001b[39m\u001b[39mproducts\u001b[39m\u001b[39m'\u001b[39m\n\u001b[1;32m----> 4\u001b[0m     \u001b[39mid\u001b[39m \u001b[39m=\u001b[39m column(Integer,primary_key\u001b[39m=\u001b[39;49m\u001b[39mTrue\u001b[39;49;00m)\n\u001b[0;32m      5\u001b[0m     title \u001b[39m=\u001b[39m column(String)\n\u001b[0;32m      6\u001b[0m     price \u001b[39m=\u001b[39m column(String)\n",
      "\u001b[1;31mTypeError\u001b[0m: column() got an unexpected keyword argument 'primary_key'"
     ]
    }
   ],
   "source": [
    "Base = declarative_base()\n",
    "class Product(Base):\n",
    "    __tablename__='products'\n",
    "    id = Column(Integer,primary_key=True)\n",
    "    title = Column(String)\n",
    "    price = Column(String)\n",
    "    num_reviews = Column(String)\n",
    "\n",
    "#create database and table\n",
    "db_url = 'sqlite:///scrapy.sqlite'\n",
    "engine = create_engine(db_url)\n",
    "Base.metadata.create_all(engine)\n"
   ]
  },
  {
   "cell_type": "code",
   "execution_count": 21,
   "metadata": {},
   "outputs": [
    {
     "ename": "NameError",
     "evalue": "name 'engine' is not defined",
     "output_type": "error",
     "traceback": [
      "\u001b[1;31m---------------------------------------------------------------------------\u001b[0m",
      "\u001b[1;31mNameError\u001b[0m                                 Traceback (most recent call last)",
      "Cell \u001b[1;32mIn[21], line 1\u001b[0m\n\u001b[1;32m----> 1\u001b[0m db\u001b[39m=\u001b[39msessionmaker(bind\u001b[39m=\u001b[39mengine)\n\u001b[0;32m      2\u001b[0m \u001b[39mfor\u001b[39;00m entry \u001b[39min\u001b[39;00m result:\n\u001b[0;32m      3\u001b[0m     p \u001b[39m=\u001b[39m Product(title\u001b[39m=\u001b[39mentry[\u001b[39m'\u001b[39m\u001b[39mtitle\u001b[39m\u001b[39m'\u001b[39m],)\n",
      "\u001b[1;31mNameError\u001b[0m: name 'engine' is not defined"
     ]
    }
   ],
   "source": [
    "db=sessionmaker(bind=engine)\n",
    "for entry in result:\n",
    "    p = Product(title=entry['title'],\n",
    "                price=entry['price'],\n",
    "                num_reviews=entry['num_reviews'])\n",
    "\n"
   ]
  },
  {
   "cell_type": "code",
   "execution_count": null,
   "metadata": {},
   "outputs": [],
   "source": []
  }
 ],
 "metadata": {
  "kernelspec": {
   "display_name": "base",
   "language": "python",
   "name": "python3"
  },
  "language_info": {
   "codemirror_mode": {
    "name": "ipython",
    "version": 3
   },
   "file_extension": ".py",
   "mimetype": "text/x-python",
   "name": "python",
   "nbconvert_exporter": "python",
   "pygments_lexer": "ipython3",
   "version": "3.10.10"
  },
  "orig_nbformat": 4
 },
 "nbformat": 4,
 "nbformat_minor": 2
}
