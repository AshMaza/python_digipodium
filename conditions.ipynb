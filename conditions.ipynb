{
 "cells": [
  {
   "cell_type": "code",
   "execution_count": 8,
   "metadata": {},
   "outputs": [],
   "source": [
    "a=9\n",
    "b=7\n",
    "if(a==b):\n",
    "    print(f'Hello b={b}')\n",
    "if a<b:\n",
    "    print(f'Hello a={a}')"
   ]
  },
  {
   "cell_type": "code",
   "execution_count": 5,
   "metadata": {},
   "outputs": [
    {
     "name": "stdout",
     "output_type": "stream",
     "text": [
      "a is less than b\n",
      "b is less than c\n",
      "a is less than c\n"
     ]
    }
   ],
   "source": [
    "#CONDITIONS STATEMENTs\n",
    "# Multiple conditions\n",
    "a=5\n",
    "b=10\n",
    "c=15\n",
    "if a<b:\n",
    "    print(\"a is less than b\")\n",
    "if b<c:\n",
    "    print(\"b is less than c\")\n",
    "if a<c:\n",
    "    print(\"a is less than c\")\n",
    "if b<a:\n",
    "    print(\"b is less than a\")"
   ]
  },
  {
   "cell_type": "code",
   "execution_count": 6,
   "metadata": {},
   "outputs": [
    {
     "name": "stdout",
     "output_type": "stream",
     "text": [
      "a is less than b\n"
     ]
    }
   ],
   "source": [
    "#if-else\n",
    "a=10\n",
    "b=15\n",
    "c=20\n",
    "if a<b:\n",
    "    print('a is less than b')\n",
    "elif a<c:\n",
    "    print(\"a is less than c\")\n",
    "else:\n",
    "    print(\"error 404\")\n",
    "    "
   ]
  },
  {
   "cell_type": "code",
   "execution_count": 10,
   "metadata": {},
   "outputs": [
    {
     "name": "stdout",
     "output_type": "stream",
     "text": [
      "a=13 is odd\n"
     ]
    }
   ],
   "source": [
    "#if-else\n",
    "a=int(input(\"enter the number\"))\n",
    "if a%2==0:\n",
    "    print(f'a={a} is even')\n",
    "else:\n",
    "    print(f'a={a} is odd')\n"
   ]
  },
  {
   "cell_type": "code",
   "execution_count": 11,
   "metadata": {},
   "outputs": [
    {
     "name": "stdout",
     "output_type": "stream",
     "text": [
      "negative\n"
     ]
    }
   ],
   "source": [
    "a=int(input(\"enter the number\"))\n",
    "if a>0:\n",
    "    print(\"positive\")\n",
    "else:\n",
    "    print(\"negative\")"
   ]
  },
  {
   "cell_type": "code",
   "execution_count": 14,
   "metadata": {},
   "outputs": [
    {
     "name": "stdout",
     "output_type": "stream",
     "text": [
      "Success\n"
     ]
    }
   ],
   "source": [
    "username=input(\"enter your name\")\n",
    "email=input(\"enter your mail\")\n",
    "pwd=input(\"enter your password\")\n",
    "pwd2=input(\"enter your password again\")\n",
    "if len(username)>=4 and len(username)<=15:\n",
    "    if '@' in email and email.islower() and len(email)>10:\n",
    "        if len(pwd)>=6 and pwd!=username:\n",
    "            if pwd==pwd2:\n",
    "                print('Success👍')\n",
    "            else:\n",
    "                print(\"Password doesn't match\")\n",
    "        else:\n",
    "            print(\"password is invalid\")\n",
    "    else:\n",
    "        print(\"email is invalid\")\n",
    "else:\n",
    "    print(\"Username is invalid🤦‍♂️\")\n",
    "\n",
    "# for emoji's press windows + '.' "
   ]
  },
  {
   "cell_type": "code",
   "execution_count": 17,
   "metadata": {},
   "outputs": [
    {
     "name": "stdout",
     "output_type": "stream",
     "text": [
      "You are eligible to vote\n"
     ]
    }
   ],
   "source": [
    "age=int(input(\"enter your age\"))\n",
    "if age>=18:\n",
    "    print('You are eligible to vote')\n",
    "else:\n",
    "    print('Sorry ! you are ineligible to vote')"
   ]
  },
  {
   "cell_type": "code",
   "execution_count": 23,
   "metadata": {},
   "outputs": [
    {
     "name": "stdout",
     "output_type": "stream",
     "text": [
      "equilateral\n"
     ]
    }
   ],
   "source": [
    "a=int(input(\"enter first side\"))\n",
    "b=int(input(\"enter second side\"))\n",
    "c=int(input(\"enter third side\"))\n",
    "if a==b and b!=c or a==c and a!=b or b==c and b!=a:\n",
    "    print(\"isosceles triangle\")\n",
    "elif a==b and b==c:\n",
    "    print(\"equilateral\")\n",
    "else:\n",
    "    print(\"scalene\")"
   ]
  },
  {
   "cell_type": "code",
   "execution_count": null,
   "metadata": {},
   "outputs": [],
   "source": []
  },
  {
   "cell_type": "code",
   "execution_count": null,
   "metadata": {},
   "outputs": [],
   "source": []
  }
 ],
 "metadata": {
  "kernelspec": {
   "display_name": "base",
   "language": "python",
   "name": "python3"
  },
  "language_info": {
   "codemirror_mode": {
    "name": "ipython",
    "version": 3
   },
   "file_extension": ".py",
   "mimetype": "text/x-python",
   "name": "python",
   "nbconvert_exporter": "python",
   "pygments_lexer": "ipython3",
   "version": "3.10.10"
  },
  "orig_nbformat": 4
 },
 "nbformat": 4,
 "nbformat_minor": 2
}
